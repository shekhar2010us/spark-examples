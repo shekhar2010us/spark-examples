{
 "cells": [
  {
   "cell_type": "code",
   "execution_count": 1,
   "metadata": {},
   "outputs": [],
   "source": [
    "from common import Common\n",
    "from pyspark import *\n",
    "from pyspark.streaming import *\n",
    "from pyspark import SparkContext, SparkConf"
   ]
  },
  {
   "cell_type": "code",
   "execution_count": 2,
   "metadata": {},
   "outputs": [
    {
     "name": "stdout",
     "output_type": "stream",
     "text": [
      "<SparkContext master=local appName=myapp>\n",
      "2.4.5\n"
     ]
    }
   ],
   "source": [
    "## Do not run this multiple times\n",
    "common = Common()\n",
    "sc = common.get_spark_core()"
   ]
  },
  {
   "cell_type": "code",
   "execution_count": 3,
   "metadata": {},
   "outputs": [
    {
     "name": "stdout",
     "output_type": "stream",
     "text": [
      "line count: 31\n",
      "empty lines:  16\n"
     ]
    }
   ],
   "source": [
    "rdd = sc.textFile('/home/ec2-user/data/empty_lines.txt')\n",
    "print ('line count:', rdd.count())\n",
    "rdd.take(2)\n",
    "\n",
    "print ('empty lines: ', rdd.filter(lambda x : len(x) == 0).count())"
   ]
  },
  {
   "cell_type": "markdown",
   "metadata": {},
   "source": [
    "## Accumulators"
   ]
  },
  {
   "cell_type": "code",
   "execution_count": 4,
   "metadata": {},
   "outputs": [],
   "source": [
    "def line_len(line:str):\n",
    "    if len(line.strip()) == 0:\n",
    "        global num_empty_lines\n",
    "        num_empty_lines += 1\n",
    "    return len(line)"
   ]
  },
  {
   "cell_type": "markdown",
   "metadata": {},
   "source": [
    "#### Accumulators, take 5"
   ]
  },
  {
   "cell_type": "code",
   "execution_count": 5,
   "metadata": {},
   "outputs": [
    {
     "name": "stdout",
     "output_type": "stream",
     "text": [
      "[58, 0, 56, 0, 0]\n",
      "3\n"
     ]
    }
   ],
   "source": [
    "num_empty_lines = sc.accumulator(0)\n",
    "words = rdd.map(line_len)\n",
    "print (words.take(5))\n",
    "print (num_empty_lines.value)"
   ]
  },
  {
   "cell_type": "markdown",
   "metadata": {},
   "source": [
    "#### Accumulators, take 20"
   ]
  },
  {
   "cell_type": "code",
   "execution_count": 6,
   "metadata": {},
   "outputs": [
    {
     "name": "stdout",
     "output_type": "stream",
     "text": [
      "[58, 0, 56, 0, 0, 15, 0, 106, 0, 77, 0, 58, 0, 167, 0, 0, 387, 0, 151, 0]\n",
      "11\n"
     ]
    }
   ],
   "source": [
    "num_empty_lines = sc.accumulator(0)\n",
    "words = rdd.map(line_len)\n",
    "print (words.take(20))\n",
    "print (num_empty_lines.value)"
   ]
  },
  {
   "cell_type": "markdown",
   "metadata": {},
   "source": [
    "#### Accumulators, collect"
   ]
  },
  {
   "cell_type": "code",
   "execution_count": 7,
   "metadata": {},
   "outputs": [
    {
     "name": "stdout",
     "output_type": "stream",
     "text": [
      "16\n"
     ]
    }
   ],
   "source": [
    "num_empty_lines = sc.accumulator(0)\n",
    "words = rdd.map(line_len)\n",
    "_coll = (words.collect())\n",
    "print (num_empty_lines.value)"
   ]
  },
  {
   "cell_type": "markdown",
   "metadata": {},
   "source": [
    "## Broadcast\n",
    "### Remove stop words"
   ]
  },
  {
   "cell_type": "code",
   "execution_count": 8,
   "metadata": {},
   "outputs": [
    {
     "name": "stdout",
     "output_type": "stream",
     "text": [
      "['a', 'an', 'the', 'of', 'at', 'is', 'am', 'are', 'this', 'that', '', 'at', 'for', 'with']\n"
     ]
    }
   ],
   "source": [
    "stopwords = [\"a\", \"an\", \"the\", \"of\", \"at\", \"is\", \"am\", \"are\", \"this\", \"that\", '', 'at', 'for', 'with']\n",
    "print (stopwords)"
   ]
  },
  {
   "cell_type": "code",
   "execution_count": 9,
   "metadata": {},
   "outputs": [
    {
     "name": "stdout",
     "output_type": "stream",
     "text": [
      "broadcast:  ['a', 'an', 'the', 'of', 'at', 'is', 'am', 'are', 'this', 'that', '', 'at', 'for', 'with']\n"
     ]
    }
   ],
   "source": [
    "swords = sc.broadcast(stopwords)\n",
    "print ('broadcast: ', swords.value)"
   ]
  },
  {
   "cell_type": "code",
   "execution_count": 10,
   "metadata": {},
   "outputs": [
    {
     "name": "stdout",
     "output_type": "stream",
     "text": [
      "line count: 31\n"
     ]
    },
    {
     "data": {
      "text/plain": [
       "['Apache',\n",
       " 'Spark',\n",
       " 'open-source',\n",
       " 'distributed',\n",
       " 'general-purpose',\n",
       " 'cluster-computing',\n",
       " 'framework.',\n",
       " 'Spark',\n",
       " 'provides',\n",
       " 'interface']"
      ]
     },
     "execution_count": 10,
     "metadata": {},
     "output_type": "execute_result"
    }
   ],
   "source": [
    "rdd = sc.textFile('/home/ec2-user/data/empty_lines.txt')\n",
    "print ('line count:', rdd.count())\n",
    "rdd.take(2)\n",
    "\n",
    "def toWords(line:str):\n",
    "    words = line.split(\" \")\n",
    "    words = [i for i in words if i not in swords.value]\n",
    "    return words\n",
    "\n",
    "not_stopwords = rdd.flatMap(toWords)\n",
    "not_stopwords.take(10)\n"
   ]
  },
  {
   "cell_type": "code",
   "execution_count": null,
   "metadata": {},
   "outputs": [],
   "source": []
  }
 ],
 "metadata": {
  "kernelspec": {
   "display_name": "Python 3",
   "language": "python",
   "name": "python3"
  },
  "language_info": {
   "codemirror_mode": {
    "name": "ipython",
    "version": 3
   },
   "file_extension": ".py",
   "mimetype": "text/x-python",
   "name": "python",
   "nbconvert_exporter": "python",
   "pygments_lexer": "ipython3",
   "version": "3.7.6"
  }
 },
 "nbformat": 4,
 "nbformat_minor": 4
}
