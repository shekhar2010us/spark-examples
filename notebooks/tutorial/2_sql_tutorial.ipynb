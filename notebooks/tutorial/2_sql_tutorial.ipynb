{
 "cells": [
  {
   "cell_type": "markdown",
   "metadata": {},
   "source": [
    "# Spark SQL"
   ]
  },
  {
   "cell_type": "code",
   "execution_count": 1,
   "metadata": {},
   "outputs": [],
   "source": [
    "from common import Common\n",
    "from pyspark.sql import functions as F\n",
    "from pyspark.sql.types import *\n",
    "from pyspark.sql.functions import udf, struct\n",
    "from pyspark.sql.types import Row\n",
    "from pyspark.sql.functions import explode\n",
    "from pyspark.sql.functions import col, asc"
   ]
  },
  {
   "cell_type": "code",
   "execution_count": 2,
   "metadata": {},
   "outputs": [
    {
     "name": "stdout",
     "output_type": "stream",
     "text": [
      "<SparkContext master=local appName=myapp>\n",
      "2.4.5\n"
     ]
    }
   ],
   "source": [
    "## Do not run this multiple times\n",
    "common = Common()\n",
    "sc,spark = common.get_spark_sql()"
   ]
  },
  {
   "cell_type": "code",
   "execution_count": 3,
   "metadata": {},
   "outputs": [
    {
     "name": "stdout",
     "output_type": "stream",
     "text": [
      "+------------+\n",
      "|databaseName|\n",
      "+------------+\n",
      "|     default|\n",
      "+------------+\n",
      "\n",
      "+--------+---------+-----------+\n",
      "|database|tableName|isTemporary|\n",
      "+--------+---------+-----------+\n",
      "+--------+---------+-----------+\n",
      "\n"
     ]
    }
   ],
   "source": [
    "spark.sql(\"show databases\").show()\n",
    "spark.sql(\"show tables in default\").show()"
   ]
  },
  {
   "cell_type": "code",
   "execution_count": 4,
   "metadata": {},
   "outputs": [],
   "source": [
    "# file paths\n",
    "csv_file = '/home/ec2-user/data/spotify.csv'\n",
    "json_file = '/home/ec2-user/data/spotify.json'\n",
    "gender_file = '/home/ec2-user/data/artist_gender.csv'"
   ]
  },
  {
   "cell_type": "markdown",
   "metadata": {},
   "source": [
    "### Load CSV file to DF"
   ]
  },
  {
   "cell_type": "code",
   "execution_count": 5,
   "metadata": {},
   "outputs": [
    {
     "name": "stdout",
     "output_type": "stream",
     "text": [
      "columns:  ['acousticness', 'danceability', 'duration_ms', 'energy', 'song_title', 'artist']\n",
      "count:  2017\n",
      "\n",
      "schema: \n",
      "root\n",
      " |-- acousticness: string (nullable = true)\n",
      " |-- danceability: string (nullable = true)\n",
      " |-- duration_ms: string (nullable = true)\n",
      " |-- energy: string (nullable = true)\n",
      " |-- song_title: string (nullable = true)\n",
      " |-- artist: string (nullable = true)\n",
      "\n",
      "+------------+------------+-----------+------+--------------+----------------+\n",
      "|acousticness|danceability|duration_ms|energy|    song_title|          artist|\n",
      "+------------+------------+-----------+------+--------------+----------------+\n",
      "|      0.0102|       0.833|     204600| 0.434|      Mask Off|          Future|\n",
      "|       0.199|       0.743|     326933| 0.359|       Redbone|Childish Gambino|\n",
      "|      0.0344|       0.838|     185707| 0.412|  Xanny Family|          Future|\n",
      "|       0.604|       0.494|     199413| 0.338|Master Of None|     Beach House|\n",
      "|        0.18|       0.678|     392893| 0.561|Parallel Lines|     Junior Boys|\n",
      "+------------+------------+-----------+------+--------------+----------------+\n",
      "only showing top 5 rows\n",
      "\n"
     ]
    }
   ],
   "source": [
    "df = spark.read.option(\"header\", \"true\").option(\"mode\", \"DROPMALFORMED\").csv(csv_file)\n",
    "# df = spark.read.csv(csv_file, header=True, sep=\",\")\n",
    "# df = spark.read.format(\"csv\").option(\"header\", \"true\").load(csv_file)\n",
    "\n",
    "print ('columns: ', df.columns)\n",
    "print ('count: ', df.count())\n",
    "print ('\\nschema: ')\n",
    "df.printSchema()\n",
    "df.show(5)"
   ]
  },
  {
   "cell_type": "markdown",
   "metadata": {},
   "source": [
    "### Load JSON file to DF"
   ]
  },
  {
   "cell_type": "code",
   "execution_count": 6,
   "metadata": {},
   "outputs": [
    {
     "name": "stdout",
     "output_type": "stream",
     "text": [
      "columns:  ['acousticness', 'artist', 'danceability', 'duration_ms', 'energy', 'song_title']\n",
      "count:  2017\n",
      "\n",
      "schema: \n",
      "root\n",
      " |-- acousticness: string (nullable = true)\n",
      " |-- artist: string (nullable = true)\n",
      " |-- danceability: string (nullable = true)\n",
      " |-- duration_ms: string (nullable = true)\n",
      " |-- energy: string (nullable = true)\n",
      " |-- song_title: string (nullable = true)\n",
      "\n",
      "+------------+----------------+------------+-----------+------+--------------+\n",
      "|acousticness|          artist|danceability|duration_ms|energy|    song_title|\n",
      "+------------+----------------+------------+-----------+------+--------------+\n",
      "|      0.0102|          Future|       0.833|     204600| 0.434|      Mask Off|\n",
      "|       0.199|Childish Gambino|       0.743|     326933| 0.359|       Redbone|\n",
      "|      0.0344|          Future|       0.838|     185707| 0.412|  Xanny Family|\n",
      "|       0.604|     Beach House|       0.494|     199413| 0.338|Master Of None|\n",
      "|        0.18|     Junior Boys|       0.678|     392893| 0.561|Parallel Lines|\n",
      "+------------+----------------+------------+-----------+------+--------------+\n",
      "only showing top 5 rows\n",
      "\n"
     ]
    }
   ],
   "source": [
    "df = spark.read.option(\"header\", \"true\").option(\"mode\", \"DROPMALFORMED\").json(json_file)\n",
    "\n",
    "print ('columns: ', df.columns)\n",
    "print ('count: ', df.count())\n",
    "print ('\\nschema: ')\n",
    "df.printSchema()\n",
    "df.show(5)"
   ]
  },
  {
   "cell_type": "markdown",
   "metadata": {},
   "source": [
    "### Convert RDD to DF"
   ]
  },
  {
   "cell_type": "code",
   "execution_count": 7,
   "metadata": {},
   "outputs": [
    {
     "name": "stdout",
     "output_type": "stream",
     "text": [
      "columns:  ['acousticness', 'danceability', 'duration_ms', 'energy', 'song_title', 'artist']\n",
      "\n",
      "schema: \n",
      "root\n",
      " |-- acousticness: string (nullable = true)\n",
      " |-- danceability: string (nullable = true)\n",
      " |-- duration_ms: string (nullable = true)\n",
      " |-- energy: string (nullable = true)\n",
      " |-- song_title: string (nullable = true)\n",
      " |-- artist: string (nullable = true)\n",
      "\n",
      "+------------+------------+-----------+------+--------------+----------------+\n",
      "|acousticness|danceability|duration_ms|energy|    song_title|          artist|\n",
      "+------------+------------+-----------+------+--------------+----------------+\n",
      "|      0.0102|       0.833|     204600| 0.434|      Mask Off|          Future|\n",
      "|       0.199|       0.743|     326933| 0.359|       Redbone|Childish Gambino|\n",
      "|      0.0344|       0.838|     185707| 0.412|  Xanny Family|          Future|\n",
      "|       0.604|       0.494|     199413| 0.338|Master Of None|     Beach House|\n",
      "|        0.18|       0.678|     392893| 0.561|Parallel Lines|     Junior Boys|\n",
      "+------------+------------+-----------+------+--------------+----------------+\n",
      "only showing top 5 rows\n",
      "\n"
     ]
    }
   ],
   "source": [
    "# read csv file as rdd\n",
    "rdd = sc.textFile(csv_file)\n",
    "header = rdd.first()\n",
    "rdd = rdd.filter(lambda x : x != header).map(lambda x : x.split(\",\"))\n",
    "cols = header.split(\",\")\n",
    "df = rdd.toDF(cols)\n",
    "\n",
    "print ('columns: ', df.columns)\n",
    "print ('\\nschema: ')\n",
    "df.printSchema()\n",
    "df.show(5)"
   ]
  },
  {
   "cell_type": "markdown",
   "metadata": {},
   "source": [
    "### Load DF from Temporary View"
   ]
  },
  {
   "cell_type": "code",
   "execution_count": 8,
   "metadata": {},
   "outputs": [
    {
     "name": "stdout",
     "output_type": "stream",
     "text": [
      "columns:  ['acousticness', 'danceability', 'duration_ms', 'energy', 'song_title', 'artist']\n",
      "\n",
      "schema: \n",
      "root\n",
      " |-- acousticness: string (nullable = true)\n",
      " |-- danceability: string (nullable = true)\n",
      " |-- duration_ms: string (nullable = true)\n",
      " |-- energy: string (nullable = true)\n",
      " |-- song_title: string (nullable = true)\n",
      " |-- artist: string (nullable = true)\n",
      "\n",
      "+------------+------------+-----------+------+--------------+----------------+\n",
      "|acousticness|danceability|duration_ms|energy|    song_title|          artist|\n",
      "+------------+------------+-----------+------+--------------+----------------+\n",
      "|      0.0102|       0.833|     204600| 0.434|      Mask Off|          Future|\n",
      "|       0.199|       0.743|     326933| 0.359|       Redbone|Childish Gambino|\n",
      "|      0.0344|       0.838|     185707| 0.412|  Xanny Family|          Future|\n",
      "|       0.604|       0.494|     199413| 0.338|Master Of None|     Beach House|\n",
      "|        0.18|       0.678|     392893| 0.561|Parallel Lines|     Junior Boys|\n",
      "+------------+------------+-----------+------+--------------+----------------+\n",
      "only showing top 5 rows\n",
      "\n"
     ]
    }
   ],
   "source": [
    "df.createOrReplaceTempView(\"spotify\")\n",
    "\n",
    "# SQL statements can be run by using the sql methods provided by spark\n",
    "df = spark.sql(\"SELECT * FROM spotify\")\n",
    "print ('columns: ', df.columns)\n",
    "print ('\\nschema: ')\n",
    "df.printSchema()\n",
    "df.show(5)"
   ]
  },
  {
   "cell_type": "code",
   "execution_count": 9,
   "metadata": {},
   "outputs": [
    {
     "name": "stdout",
     "output_type": "stream",
     "text": [
      "Before Delete\n",
      "+------------+\n",
      "|databaseName|\n",
      "+------------+\n",
      "|     default|\n",
      "+------------+\n",
      "\n",
      "+--------+---------+-----------+\n",
      "|database|tableName|isTemporary|\n",
      "+--------+---------+-----------+\n",
      "|        |  spotify|       true|\n",
      "+--------+---------+-----------+\n",
      "\n",
      "After Delete\n",
      "+------------+\n",
      "|databaseName|\n",
      "+------------+\n",
      "|     default|\n",
      "+------------+\n",
      "\n",
      "+--------+---------+-----------+\n",
      "|database|tableName|isTemporary|\n",
      "+--------+---------+-----------+\n",
      "+--------+---------+-----------+\n",
      "\n"
     ]
    }
   ],
   "source": [
    "print (\"Before Delete\")\n",
    "spark.sql(\"show databases\").show()\n",
    "spark.sql(\"show tables in default\").show()\n",
    "\n",
    "spark.sql(\"DROP TABLE spotify\")\n",
    "\n",
    "print (\"After Delete\")\n",
    "spark.sql(\"show databases\").show()\n",
    "spark.sql(\"show tables in default\").show()"
   ]
  },
  {
   "cell_type": "markdown",
   "metadata": {},
   "source": [
    "### Load DF using JDBC"
   ]
  },
  {
   "cell_type": "code",
   "execution_count": 10,
   "metadata": {},
   "outputs": [
    {
     "name": "stdout",
     "output_type": "stream",
     "text": [
      "**** DO NOT RUN THIS BLOCK *****\n"
     ]
    }
   ],
   "source": [
    "print ('**** DO NOT RUN THIS BLOCK *****')\n",
    "\n",
    "#### Include necessary jars\n",
    "# ./bin/pyspark\n",
    "#     --driver-class-path mysql-connector-java-5.1.36-bin.jar\n",
    "#     --jars mysql-connector-java-5.1.36-bin.jar\n",
    "\n",
    "\n",
    "# df = spark.read\\\n",
    "#     .format(\"jdbc\")\\\n",
    "#     .option(\"url\", \"jdbc:mysql://localhost/database_name\")\\\n",
    "#     .option(\"driver\", \"com.mysql.jdbc.Driver\")\\\n",
    "#     .option(\"dbtable\", \"employees\").option(\"user\", \"root\")\\\n",
    "#     .option(\"password\", \"12345678\").load()\n"
   ]
  },
  {
   "cell_type": "markdown",
   "metadata": {},
   "source": [
    "### Load DF from MongoDB"
   ]
  },
  {
   "cell_type": "code",
   "execution_count": 11,
   "metadata": {},
   "outputs": [
    {
     "name": "stdout",
     "output_type": "stream",
     "text": [
      "**** DO NOT RUN THIS BLOCK *****\n"
     ]
    }
   ],
   "source": [
    "print ('**** DO NOT RUN THIS BLOCK *****')\n",
    "\n",
    "#### Include necessary jars\n",
    "# ./bin/pyspark\n",
    "#     --driver-class-path mongo-spark-connector_2.11.jar\n",
    "#     --jars mongo-spark-connector_2.11.jar\n",
    "\n",
    "\n",
    "# df = spark.read.format(\"mongo\").option(\"uri\", \"mongodb://127.0.0.1/people.contacts\").load()\n"
   ]
  },
  {
   "cell_type": "markdown",
   "metadata": {},
   "source": [
    "### DF Operations"
   ]
  },
  {
   "cell_type": "code",
   "execution_count": 12,
   "metadata": {},
   "outputs": [
    {
     "name": "stdout",
     "output_type": "stream",
     "text": [
      "****** Load dataframe from a csv ******\n",
      "count:  2017\n",
      "+------------+------------+-----------+------+------------+----------------+\n",
      "|acousticness|danceability|duration_ms|energy|  song_title|          artist|\n",
      "+------------+------------+-----------+------+------------+----------------+\n",
      "|      0.0102|       0.833|     204600| 0.434|    Mask Off|          Future|\n",
      "|       0.199|       0.743|     326933| 0.359|     Redbone|Childish Gambino|\n",
      "|      0.0344|       0.838|     185707| 0.412|Xanny Family|          Future|\n",
      "+------------+------------+-----------+------+------------+----------------+\n",
      "only showing top 3 rows\n",
      "\n"
     ]
    }
   ],
   "source": [
    "## Load the right CSV file in DF before starting DF Functions\n",
    "print ('****** Load dataframe from a csv ******')\n",
    "df = spark.read.option(\"header\", \"true\").option(\"mode\", \"DROPMALFORMED\").csv(csv_file)\n",
    "\n",
    "print ('count: ', df.count())\n",
    "df.show(3)"
   ]
  },
  {
   "cell_type": "markdown",
   "metadata": {},
   "source": [
    "### Column datatypes"
   ]
  },
  {
   "cell_type": "code",
   "execution_count": 13,
   "metadata": {},
   "outputs": [
    {
     "name": "stdout",
     "output_type": "stream",
     "text": [
      "***** Column datatypes *****\n",
      "Original datatypes:  [('acousticness', 'string'), ('danceability', 'string'), ('duration_ms', 'string'), ('energy', 'string'), ('song_title', 'string'), ('artist', 'string')]\n",
      "\n",
      "New datatypes:  [('acousticness', 'double'), ('danceability', 'double'), ('duration_ms', 'double'), ('energy', 'double'), ('song_title', 'string'), ('artist', 'string')]\n",
      "\n",
      "Energy datatype:  [('acousticness', 'string'), ('danceability', 'double'), ('duration_ms', 'double'), ('energy', 'double'), ('song_title', 'string'), ('artist', 'string')]\n",
      "\n",
      "Energy datatype back to double:  [('acousticness', 'double'), ('danceability', 'double'), ('duration_ms', 'double'), ('energy', 'double'), ('song_title', 'string'), ('artist', 'string')]\n",
      "count:  2017\n",
      "+------------+------------+-----------+------+------------+----------------+\n",
      "|acousticness|danceability|duration_ms|energy|  song_title|          artist|\n",
      "+------------+------------+-----------+------+------------+----------------+\n",
      "|      0.0102|       0.833|   204600.0| 0.434|    Mask Off|          Future|\n",
      "|       0.199|       0.743|   326933.0| 0.359|     Redbone|Childish Gambino|\n",
      "|      0.0344|       0.838|   185707.0| 0.412|Xanny Family|          Future|\n",
      "+------------+------------+-----------+------+------------+----------------+\n",
      "only showing top 3 rows\n",
      "\n"
     ]
    }
   ],
   "source": [
    "## datatypes of each column\n",
    "print ('***** Column datatypes *****')\n",
    "print ('Original datatypes: ', df.dtypes)\n",
    "\n",
    "# change dtype of multiple columns\n",
    "for column in df.columns:\n",
    "    # add condition for the cols to be type cast\n",
    "    if column not in ['song_title','artist']:\n",
    "        df = df.withColumn(column, df[column].cast('double'))\n",
    "print ('\\nNew datatypes: ', df.dtypes)\n",
    "\n",
    "# change dtype of one column\n",
    "df = df.withColumn(\"acousticness\", df[\"acousticness\"].cast('string'))\n",
    "print ('\\nEnergy datatype: ', df.dtypes)\n",
    "\n",
    "# change back\n",
    "df = df.withColumn(\"acousticness\", df[\"acousticness\"].cast('double'))\n",
    "print ('\\nEnergy datatype back to double: ', df.dtypes)\n",
    "\n",
    "print ('count: ', df.count())\n",
    "df.show(3)"
   ]
  },
  {
   "cell_type": "markdown",
   "metadata": {},
   "source": [
    "### Select columns, Filter rows"
   ]
  },
  {
   "cell_type": "code",
   "execution_count": 14,
   "metadata": {},
   "outputs": [
    {
     "name": "stdout",
     "output_type": "stream",
     "text": [
      "****** Select one column ******\n",
      "count:  2017\n",
      "+------------+\n",
      "|  song_title|\n",
      "+------------+\n",
      "|    Mask Off|\n",
      "|     Redbone|\n",
      "|Xanny Family|\n",
      "+------------+\n",
      "only showing top 3 rows\n",
      "\n",
      "****** Select multiple columns ******\n",
      "count:  2017\n",
      "+------------+----------------+\n",
      "|  song_title|          artist|\n",
      "+------------+----------------+\n",
      "|    Mask Off|          Future|\n",
      "|     Redbone|Childish Gambino|\n",
      "|Xanny Family|          Future|\n",
      "+------------+----------------+\n",
      "only showing top 3 rows\n",
      "\n"
     ]
    }
   ],
   "source": [
    "print ('****** Select one column ******')\n",
    "df1 = df.select(\"song_title\")\n",
    "print ('count: ', df1.count())\n",
    "df1.show(3)\n",
    "\n",
    "print ('****** Select multiple columns ******')\n",
    "df1 = df.select([\"song_title\", \"artist\"])\n",
    "print ('count: ', df1.count())\n",
    "df1.show(3)"
   ]
  },
  {
   "cell_type": "code",
   "execution_count": 15,
   "metadata": {
    "scrolled": true
   },
   "outputs": [
    {
     "name": "stdout",
     "output_type": "stream",
     "text": [
      "****** Filter rows by one column ******\n",
      "count:  270\n",
      "+------------+------------+-----------+------+-----------------+-----------+\n",
      "|acousticness|danceability|duration_ms|energy|       song_title|     artist|\n",
      "+------------+------------+-----------+------+-----------------+-----------+\n",
      "|      0.0481|       0.603|   202853.0| 0.944|I've Seen Footage|Death Grips|\n",
      "|      0.0239|       0.603|   270827.0| 0.955|  World In Motion|  New Order|\n",
      "+------------+------------+-----------+------+-----------------+-----------+\n",
      "only showing top 2 rows\n",
      "\n",
      "****** Filter rows by one column ******\n",
      "+------------+------------+-----------+------+--------------------+------+\n",
      "|acousticness|danceability|duration_ms|energy|          song_title|artist|\n",
      "+------------+------------+-----------+------+--------------------+------+\n",
      "|      0.0028|       0.686|   211000.0| 0.915|Tearin' up My Hea...|*NSYNC|\n",
      "|      0.0743|       0.754|   199787.0| 0.946|I Want You Back -...|*NSYNC|\n",
      "+------------+------------+-----------+------+--------------------+------+\n",
      "only showing top 2 rows\n",
      "\n"
     ]
    }
   ],
   "source": [
    "print ('****** Filter rows by one column ******')\n",
    "df1 = df.filter(\"energy > 0.9\")\n",
    "print ('count: ', df1.count())\n",
    "df1.show(2)\n",
    "\n",
    "print ('****** Filter rows by one column ******')\n",
    "# Use filter() to return the rows that match a predicate\n",
    "df2 = df.filter(df.energy > 0.9).sort(df.artist)\n",
    "df2.show(2)"
   ]
  },
  {
   "cell_type": "code",
   "execution_count": 16,
   "metadata": {},
   "outputs": [
    {
     "name": "stdout",
     "output_type": "stream",
     "text": [
      "****** Filter rows by multiple columns OR operation ******\n",
      "count:  306\n",
      "+------------+------------+-----------+------+--------------------+--------------------+\n",
      "|acousticness|danceability|duration_ms|energy|          song_title|              artist|\n",
      "+------------+------------+-----------+------+--------------------+--------------------+\n",
      "|      0.0803|       0.664|   472013.0| 0.727|         Disco Devil|\"Lee \"\"Scratch\"\" ...|\n",
      "|      0.0743|       0.754|   199787.0| 0.946|I Want You Back -...|              *NSYNC|\n",
      "|      0.0028|       0.686|   211000.0| 0.915|Tearin' up My Hea...|              *NSYNC|\n",
      "+------------+------------+-----------+------+--------------------+--------------------+\n",
      "only showing top 3 rows\n",
      "\n",
      "****** Filter rows by multiple columns AND operation ******\n",
      "count:  9\n",
      "+------------+------------+-----------+------+--------------------+----------+\n",
      "|acousticness|danceability|duration_ms|energy|          song_title|    artist|\n",
      "+------------+------------+-----------+------+--------------------+----------+\n",
      "|       0.183|       0.716|   576888.0| 0.957|Odofo Nyi Akyiri ...|Ebo Taylor|\n",
      "|       0.107|       0.645|   591707.0| 0.924|Water No Get Enem...| Fela Kuti|\n",
      "|       0.388|       0.704|   745653.0| 0.942|              Zombie| Fela Kuti|\n",
      "+------------+------------+-----------+------+--------------------+----------+\n",
      "only showing top 3 rows\n",
      "\n"
     ]
    }
   ],
   "source": [
    "print ('****** Filter rows by multiple columns OR operation ******')\n",
    "df1 = df.filter((col(\"energy\") > 0.9) | (col(\"duration_ms\") > 470000)).sort(asc(\"artist\"))\n",
    "print ('count: ', df1.count())\n",
    "df1.show(3)\n",
    "\n",
    "\n",
    "print ('****** Filter rows by multiple columns AND operation ******')\n",
    "df1 = df.filter((col(\"energy\") > 0.9) & (col(\"duration_ms\") > 470000)).sort(asc(\"artist\"))\n",
    "print ('count: ', df1.count())\n",
    "df1.show(3)"
   ]
  },
  {
   "cell_type": "code",
   "execution_count": 17,
   "metadata": {},
   "outputs": [
    {
     "name": "stdout",
     "output_type": "stream",
     "text": [
      "****** Filter using Where clause ******\n",
      "count:  9\n",
      "+------------+------------+-----------+------+--------------------+----------+\n",
      "|acousticness|danceability|duration_ms|energy|          song_title|    artist|\n",
      "+------------+------------+-----------+------+--------------------+----------+\n",
      "|       0.183|       0.716|   576888.0| 0.957|Odofo Nyi Akyiri ...|Ebo Taylor|\n",
      "|       0.107|       0.645|   591707.0| 0.924|Water No Get Enem...| Fela Kuti|\n",
      "|       0.388|       0.704|   745653.0| 0.942|              Zombie| Fela Kuti|\n",
      "+------------+------------+-----------+------+--------------------+----------+\n",
      "only showing top 3 rows\n",
      "\n"
     ]
    }
   ],
   "source": [
    "# where() clause is equivalent to filter()\n",
    "print ('****** Filter using Where clause ******')\n",
    "\n",
    "df1 = df.where((col(\"energy\") > 0.9) & (col(\"duration_ms\") > 470000)).sort(asc(\"artist\"))\n",
    "print ('count: ', df1.count())\n",
    "df1.show(3)\n"
   ]
  },
  {
   "cell_type": "code",
   "execution_count": 18,
   "metadata": {},
   "outputs": [
    {
     "name": "stdout",
     "output_type": "stream",
     "text": [
      "****** Filter using functions ******\n",
      "count:  29\n",
      "+------------+------------+-----------+------+--------------------+------------+\n",
      "|acousticness|danceability|duration_ms|energy|          song_title|      artist|\n",
      "+------------+------------+-----------+------+--------------------+------------+\n",
      "|       0.455|       0.847|   191541.0| 0.654|You Know You Like...| AlunaGeorge|\n",
      "|       0.106|       0.912|   194040.0| 0.317|Who Is He (And Wh...|Bill Withers|\n",
      "|      0.0567|       0.838|   194828.0| 0.537|     What I Might Do|  Ben Pearce|\n",
      "+------------+------------+-----------+------+--------------------+------------+\n",
      "only showing top 3 rows\n",
      "\n"
     ]
    }
   ],
   "source": [
    "print ('****** Filter using functions ******')\n",
    "\n",
    "# filter using functions, pass one or more columns\n",
    "@F.udf(returnType=BooleanType())\n",
    "def filter_col(artist:str, dance:float):\n",
    "    return (artist[0].lower() == 'a' or artist[0].lower() == 'b') and (dance >= 0.80)\n",
    "\n",
    "df1 = df.filter(filter_col('artist', 'danceability'))\n",
    "print ('count: ', df1.count())\n",
    "df1.show(3)"
   ]
  },
  {
   "cell_type": "code",
   "execution_count": 19,
   "metadata": {},
   "outputs": [
    {
     "name": "stdout",
     "output_type": "stream",
     "text": [
      "****** Handle missing data ******\n",
      "count:  2015\n",
      "+------------+------------+-----------+------+------------+----------------+\n",
      "|acousticness|danceability|duration_ms|energy|  song_title|          artist|\n",
      "+------------+------------+-----------+------+------------+----------------+\n",
      "|      0.0102|       0.833|   204600.0| 0.434|    Mask Off|          Future|\n",
      "|       0.199|       0.743|   326933.0| 0.359|     Redbone|Childish Gambino|\n",
      "|      0.0344|       0.838|   185707.0| 0.412|Xanny Family|          Future|\n",
      "+------------+------------+-----------+------+------------+----------------+\n",
      "only showing top 3 rows\n",
      "\n",
      "count:  2017\n",
      "+------------+------------+-----------+------+------------+----------------+\n",
      "|acousticness|danceability|duration_ms|energy|  song_title|          artist|\n",
      "+------------+------------+-----------+------+------------+----------------+\n",
      "|      0.0102|       0.833|   204600.0| 0.434|    Mask Off|          Future|\n",
      "|       0.199|       0.743|   326933.0| 0.359|     Redbone|Childish Gambino|\n",
      "|      0.0344|       0.838|   185707.0| 0.412|Xanny Family|          Future|\n",
      "+------------+------------+-----------+------+------------+----------------+\n",
      "only showing top 3 rows\n",
      "\n"
     ]
    }
   ],
   "source": [
    "# Handle missing data\n",
    "print ('****** Handle missing data ******')\n",
    "\n",
    "# Retrieve only rows with missing artist or song_title\n",
    "df1 = df.filter(col(\"artist\").isNotNull() & col(\"song_title\").isNotNull())\n",
    "print ('count: ', df1.count())\n",
    "df1.show(3)\n",
    "\n",
    "# Replace null values with -- using DataFrame Na function\n",
    "df1 = df.fillna(\"--\")\n",
    "print ('count: ', df1.count())\n",
    "df1.show(3)"
   ]
  },
  {
   "cell_type": "markdown",
   "metadata": {},
   "source": [
    "### Rename Columns"
   ]
  },
  {
   "cell_type": "code",
   "execution_count": 20,
   "metadata": {},
   "outputs": [
    {
     "name": "stdout",
     "output_type": "stream",
     "text": [
      "original columns:  ['acousticness', 'danceability', 'duration_ms', 'energy', 'song_title', 'artist']\n",
      "+------------+------------+-----------+------+----------+----------------+\n",
      "|acousticness|danceability|duration_ms|energy|song_title|          artist|\n",
      "+------------+------------+-----------+------+----------+----------------+\n",
      "|      0.0102|       0.833|   204600.0| 0.434|  Mask Off|          Future|\n",
      "|       0.199|       0.743|   326933.0| 0.359|   Redbone|Childish Gambino|\n",
      "+------------+------------+-----------+------+----------+----------------+\n",
      "only showing top 2 rows\n",
      "\n",
      "Changed few columns:  ['acoustic', 'dance', 'duration_ms', 'energy', 'song_title', 'artist']\n",
      "+--------+-----+-----------+------+----------+----------------+\n",
      "|acoustic|dance|duration_ms|energy|song_title|          artist|\n",
      "+--------+-----+-----------+------+----------+----------------+\n",
      "|  0.0102|0.833|   204600.0| 0.434|  Mask Off|          Future|\n",
      "|   0.199|0.743|   326933.0| 0.359|   Redbone|Childish Gambino|\n",
      "+--------+-----+-----------+------+----------+----------------+\n",
      "only showing top 2 rows\n",
      "\n",
      "Changed all columns:  ['acoustic', 'dance', 'duration', 'en', 'title', 'singer']\n",
      "+--------+-----+--------+-----+--------+----------------+\n",
      "|acoustic|dance|duration|   en|   title|          singer|\n",
      "+--------+-----+--------+-----+--------+----------------+\n",
      "|  0.0102|0.833|204600.0|0.434|Mask Off|          Future|\n",
      "|   0.199|0.743|326933.0|0.359| Redbone|Childish Gambino|\n",
      "+--------+-----+--------+-----+--------+----------------+\n",
      "only showing top 2 rows\n",
      "\n"
     ]
    }
   ],
   "source": [
    "# Rename columns\n",
    "\n",
    "print ('original columns: ', df.columns)\n",
    "df.show(2)\n",
    "\n",
    "## rename one or two columns\n",
    "df1 = df.withColumnRenamed(\"acousticness\", \"acoustic\")\\\n",
    "    .withColumnRenamed(\"danceability\", \"dance\")\n",
    "print ('Changed few columns: ', df1.columns)\n",
    "df1.show(2)\n",
    "\n",
    "## rename all columns\n",
    "new_cols = ['acoustic', 'dance', 'duration', 'en', 'title', 'singer']\n",
    "df1 = df.toDF(*new_cols)\n",
    "print ('Changed all columns: ', df1.columns)\n",
    "df1.show(2)"
   ]
  },
  {
   "cell_type": "markdown",
   "metadata": {},
   "source": [
    "### Add/change columns"
   ]
  },
  {
   "cell_type": "code",
   "execution_count": 21,
   "metadata": {},
   "outputs": [
    {
     "name": "stdout",
     "output_type": "stream",
     "text": [
      "Add/Change single column\n",
      "count:  2017\n",
      "+------------+------------+-----------+------+------------+----------------+-----------------+\n",
      "|acousticness|danceability|duration_ms|energy|  song_title|          artist|acoustic_category|\n",
      "+------------+------------+-----------+------+------------+----------------+-----------------+\n",
      "|      0.0102|       0.833|   204600.0| 0.434|    Mask Off|          Future|              low|\n",
      "|       0.199|       0.743|   326933.0| 0.359|     Redbone|Childish Gambino|              low|\n",
      "|      0.0344|       0.838|   185707.0| 0.412|Xanny Family|          Future|              low|\n",
      "+------------+------------+-----------+------+------------+----------------+-----------------+\n",
      "only showing top 3 rows\n",
      "\n"
     ]
    }
   ],
   "source": [
    "print ('Add/Change single column')\n",
    "\n",
    "def acoustic_category(value):\n",
    "    if value < 0.5:\n",
    "        return 'low'\n",
    "    return 'high'\n",
    "\n",
    "udf_acoustic_category = udf(acoustic_category, StringType())\n",
    "df1 = df.withColumn(\"acoustic_category\", udf_acoustic_category(\"acousticness\"))\n",
    "print ('count: ', df1.count())\n",
    "df1.show(3)"
   ]
  },
  {
   "cell_type": "markdown",
   "metadata": {},
   "source": [
    "### Using StructType"
   ]
  },
  {
   "cell_type": "code",
   "execution_count": 22,
   "metadata": {},
   "outputs": [
    {
     "name": "stdout",
     "output_type": "stream",
     "text": [
      "Using StructType\n",
      "count:  2017\n",
      "+-------------------+\n",
      "|              names|\n",
      "+-------------------+\n",
      "|         [Future, ]|\n",
      "|[Childish, Gambino]|\n",
      "|         [Future, ]|\n",
      "+-------------------+\n",
      "only showing top 3 rows\n",
      "\n"
     ]
    }
   ],
   "source": [
    "print ('Using StructType')\n",
    "\n",
    "schema = StructType([\n",
    "    StructField(\"first_name\", StringType(), False),\n",
    "    StructField(\"last_name\", StringType(), False)\n",
    "])\n",
    "\n",
    "def name_split(value):\n",
    "    if len(value.split(\" \")) >= 2:\n",
    "        return (value.split(' ')[0], value.split(' ')[1])\n",
    "    return (value, '')\n",
    "\n",
    "udf_name_split = udf(name_split, schema)\n",
    "df1 = df.select(udf_name_split(\"artist\").alias(\"names\"))\n",
    "print ('count: ', df1.count())\n",
    "df1.show(3)\n"
   ]
  },
  {
   "cell_type": "markdown",
   "metadata": {},
   "source": [
    "### drop columns"
   ]
  },
  {
   "cell_type": "code",
   "execution_count": 23,
   "metadata": {},
   "outputs": [
    {
     "name": "stdout",
     "output_type": "stream",
     "text": [
      "***** Drop columns *****\n",
      "drop single column\n",
      "count:  2017\n",
      "+------------+------------+-----------+------+------------+\n",
      "|acousticness|danceability|duration_ms|energy|  song_title|\n",
      "+------------+------------+-----------+------+------------+\n",
      "|      0.0102|       0.833|   204600.0| 0.434|    Mask Off|\n",
      "|       0.199|       0.743|   326933.0| 0.359|     Redbone|\n",
      "|      0.0344|       0.838|   185707.0| 0.412|Xanny Family|\n",
      "+------------+------------+-----------+------+------------+\n",
      "only showing top 3 rows\n",
      "\n",
      "drop multiple columns\n",
      "count:  2017\n",
      "+------------+------------+-----------+------+\n",
      "|acousticness|danceability|duration_ms|energy|\n",
      "+------------+------------+-----------+------+\n",
      "|      0.0102|       0.833|   204600.0| 0.434|\n",
      "|       0.199|       0.743|   326933.0| 0.359|\n",
      "|      0.0344|       0.838|   185707.0| 0.412|\n",
      "+------------+------------+-----------+------+\n",
      "only showing top 3 rows\n",
      "\n"
     ]
    }
   ],
   "source": [
    "print ('***** Drop columns *****')\n",
    "\n",
    "print ('drop single column')\n",
    "df1 = df.drop('artist')\n",
    "print ('count: ', df1.count())\n",
    "df1.show(3)\n",
    "\n",
    "print ('drop multiple columns')\n",
    "df1 = df.drop('artist', 'song_title')\n",
    "print ('count: ', df1.count())\n",
    "df1.show(3)\n"
   ]
  },
  {
   "cell_type": "markdown",
   "metadata": {},
   "source": [
    "## drop duplicate rows"
   ]
  },
  {
   "cell_type": "code",
   "execution_count": 24,
   "metadata": {},
   "outputs": [
    {
     "name": "stdout",
     "output_type": "stream",
     "text": [
      "***** Drop columns *****\n",
      "drop duplicates from all columns\n",
      "count:  2008\n",
      "+------------+------------+-----------+------+--------------------+-----------+\n",
      "|acousticness|danceability|duration_ms|energy|          song_title|     artist|\n",
      "+------------+------------+-----------+------+--------------------+-----------+\n",
      "|       0.212|       0.723|   322050.0| 0.687|Glyde 2nyte (feat...|   Dâm-Funk|\n",
      "|      0.0487|       0.289|   273000.0| 0.523|Walk On By - Sing...|Isaac Hayes|\n",
      "|      0.0267|       0.821|   632693.0| 0.793|Get Lucky - Daft ...|  Daft Punk|\n",
      "+------------+------------+-----------+------+--------------------+-----------+\n",
      "only showing top 3 rows\n",
      "\n",
      "drop duplicates for a specific column\n",
      "count:  1343\n",
      "+------------+------------+-----------+------+---------------------------+---------+\n",
      "|acousticness|danceability|duration_ms|energy|                 song_title|   artist|\n",
      "+------------+------------+-----------+------+---------------------------+---------+\n",
      "|      0.0198|       0.571|   199640.0|  0.87|                Bye Bye Bye|   *NSYNC|\n",
      "|     2.89E-4|       0.771|   227143.0| 0.949|       Hulk (Dillon Fran...|Clockwork|\n",
      "|       0.705|       0.894|   222307.0| 0.161|장가갈 수 있을까 Can I G...|Coffeeboy|\n",
      "+------------+------------+-----------+------+---------------------------+---------+\n",
      "only showing top 3 rows\n",
      "\n",
      "drop duplicates for a pair of columns\n",
      "count:  1982\n",
      "+------------+------------+-----------+------+--------------------+------------+\n",
      "|acousticness|danceability|duration_ms|energy|          song_title|      artist|\n",
      "+------------+------------+-----------+------+--------------------+------------+\n",
      "|         0.7|       0.431|   158685.0| 0.678|   Then He Kissed Me|The Crystals|\n",
      "|        0.14|       0.525|   291162.0| 0.538|Get Free (feat. A...| Major Lazer|\n",
      "|      0.0258|       0.746|   205741.0| 0.794|           Me Rehúso| Danny Ocean|\n",
      "+------------+------------+-----------+------+--------------------+------------+\n",
      "only showing top 3 rows\n",
      "\n"
     ]
    }
   ],
   "source": [
    "print ('***** Drop columns *****')\n",
    "\n",
    "print ('drop duplicates from all columns')\n",
    "df1 = df.dropDuplicates()\n",
    "print ('count: ', df1.count())\n",
    "df1.show(3)\n",
    "\n",
    "print ('drop duplicates for a specific column')\n",
    "df1 = df.dropDuplicates(['artist'])\n",
    "print ('count: ', df1.count())\n",
    "df1.show(3)\n",
    "\n",
    "print ('drop duplicates for a pair of columns')\n",
    "df1 = df.dropDuplicates(['artist', 'song_title'])\n",
    "print ('count: ', df1.count())\n",
    "df1.show(3)"
   ]
  },
  {
   "cell_type": "markdown",
   "metadata": {},
   "source": [
    "### Joins"
   ]
  },
  {
   "cell_type": "code",
   "execution_count": 25,
   "metadata": {},
   "outputs": [
    {
     "name": "stdout",
     "output_type": "stream",
     "text": [
      "***** Read gender csv file *****\n",
      "-- gender file\n",
      "Original count:  2017\n",
      "+----------------+------+\n",
      "|            name|gender|\n",
      "+----------------+------+\n",
      "|          Future|  male|\n",
      "|Childish Gambino|  male|\n",
      "+----------------+------+\n",
      "only showing top 2 rows\n",
      "\n",
      "Unique count:  1343\n",
      "+--------------+------+\n",
      "|          name|gender|\n",
      "+--------------+------+\n",
      "|  Mikal Cronin|female|\n",
      "|     Badfinger|  male|\n",
      "|Global Deejays|  male|\n",
      "|    Adrian Lux|  male|\n",
      "|   Mike Posner|female|\n",
      "+--------------+------+\n",
      "only showing top 5 rows\n",
      "\n",
      "-- main file\n",
      "count:  2017\n",
      "+------------+------------+-----------+------+------------+----------------+\n",
      "|acousticness|danceability|duration_ms|energy|  song_title|          artist|\n",
      "+------------+------------+-----------+------+------------+----------------+\n",
      "|      0.0102|       0.833|   204600.0| 0.434|    Mask Off|          Future|\n",
      "|       0.199|       0.743|   326933.0| 0.359|     Redbone|Childish Gambino|\n",
      "|      0.0344|       0.838|   185707.0| 0.412|Xanny Family|          Future|\n",
      "+------------+------------+-----------+------+------------+----------------+\n",
      "only showing top 3 rows\n",
      "\n"
     ]
    }
   ],
   "source": [
    "print ('***** Read gender csv file *****')\n",
    "gender_df = spark.read.csv(gender_file, header=True, sep=\",\")\n",
    "\n",
    "print ('-- gender file')\n",
    "print ('Original count: ', gender_df.count())\n",
    "gender_df.show(2)\n",
    "\n",
    "gender_df = gender_df.dropDuplicates()\n",
    "print ('Unique count: ', gender_df.count())\n",
    "gender_df.show(5)\n",
    "\n",
    "print ('-- main file')\n",
    "print ('count: ', df.count())\n",
    "df.show(3)\n"
   ]
  },
  {
   "cell_type": "code",
   "execution_count": 26,
   "metadata": {},
   "outputs": [
    {
     "name": "stdout",
     "output_type": "stream",
     "text": [
      "***** Inner join *****\n",
      "-- joined df\n",
      "count:  2014\n",
      "+------------+------------+-----------+------+------------+----------------+------+\n",
      "|acousticness|danceability|duration_ms|energy|  song_title|          artist|gender|\n",
      "+------------+------------+-----------+------+------------+----------------+------+\n",
      "|      0.0102|       0.833|   204600.0| 0.434|    Mask Off|          Future|  male|\n",
      "|       0.199|       0.743|   326933.0| 0.359|     Redbone|Childish Gambino|  male|\n",
      "|      0.0344|       0.838|   185707.0| 0.412|Xanny Family|          Future|  male|\n",
      "+------------+------------+-----------+------+------------+----------------+------+\n",
      "only showing top 3 rows\n",
      "\n"
     ]
    }
   ],
   "source": [
    "print ('***** Inner join *****')\n",
    "joined_df = df.join(gender_df, df.artist == gender_df.name, 'inner').drop(gender_df.name)\n",
    "\n",
    "print ('-- joined df')\n",
    "print ('count: ', joined_df.count())\n",
    "joined_df.show(3)"
   ]
  },
  {
   "cell_type": "markdown",
   "metadata": {},
   "source": [
    "### Summary Statistics"
   ]
  },
  {
   "cell_type": "code",
   "execution_count": 27,
   "metadata": {},
   "outputs": [
    {
     "name": "stdout",
     "output_type": "stream",
     "text": [
      "***** Summary Statistics *****\n",
      "stats of all columns - df\n",
      "+-------+-------------------+------------------+------------------+-------------------+----------------------------+----------------+\n",
      "|summary|       acousticness|      danceability|       duration_ms|             energy|                  song_title|          artist|\n",
      "+-------+-------------------+------------------+------------------+-------------------+----------------------------+----------------+\n",
      "|  count|               2017|              2017|              2017|               2017|                        2015|            2017|\n",
      "|   mean|0.18759003442241004|0.6184219137332657|246306.19732275658| 0.6815771442736742|                       851.5|            null|\n",
      "| stddev|0.25998925978484005|0.1610289674217501|  81981.8142190362|0.21027300892392292|           915.1701116914459|            null|\n",
      "|    min|            2.84E-6|             0.122|           16042.0|             0.0148|        \"Beauty and the B...|             !!!|\n",
      "|    max|              0.995|             0.984|         1004627.0|              0.998|지금 여기, 이곳에서 (Duet...|플랫핏 Flat Feet|\n",
      "+-------+-------------------+------------------+------------------+-------------------+----------------------------+----------------+\n",
      "\n",
      "stats of a particular column\n",
      "+-------+-------------------+\n",
      "|summary|       acousticness|\n",
      "+-------+-------------------+\n",
      "|  count|               2017|\n",
      "|   mean|0.18759003442241004|\n",
      "| stddev|0.25998925978484005|\n",
      "|    min|            2.84E-6|\n",
      "|    max|              0.995|\n",
      "+-------+-------------------+\n",
      "\n"
     ]
    }
   ],
   "source": [
    "print ('***** Summary Statistics *****')\n",
    "\n",
    "print ('stats of all columns - df')\n",
    "df.describe().show()\n",
    "\n",
    "print ('stats of a particular column')\n",
    "df.describe('acousticness').show()"
   ]
  },
  {
   "cell_type": "markdown",
   "metadata": {},
   "source": [
    "### Aggregation"
   ]
  },
  {
   "cell_type": "code",
   "execution_count": 28,
   "metadata": {},
   "outputs": [
    {
     "name": "stdout",
     "output_type": "stream",
     "text": [
      "***** Aggregation: count *****\n",
      "count:  1343\n",
      "+--------------+-----+\n",
      "|        artist|count|\n",
      "+--------------+-----+\n",
      "|         Virgo|    1|\n",
      "|        Grimes|    6|\n",
      "|    Snoop Dogg|    2|\n",
      "|The Black Keys|    1|\n",
      "|     Clockwork|    1|\n",
      "+--------------+-----+\n",
      "only showing top 5 rows\n",
      "\n"
     ]
    }
   ],
   "source": [
    "print ('***** Aggregation: count *****')\n",
    "\n",
    "df1 = df.groupBy(\"artist\").count()\n",
    "print ('count: ', df1.count())\n",
    "df1.show(5)"
   ]
  },
  {
   "cell_type": "code",
   "execution_count": 29,
   "metadata": {},
   "outputs": [
    {
     "name": "stdout",
     "output_type": "stream",
     "text": [
      "***** Aggregation: count and sort *****\n",
      "count:  1343\n",
      "+---------------+-----+\n",
      "|         artist|count|\n",
      "+---------------+-----+\n",
      "|          Drake|   16|\n",
      "|      Rick Ross|   13|\n",
      "|     Disclosure|   12|\n",
      "|  WALK THE MOON|   10|\n",
      "|Backstreet Boys|   10|\n",
      "+---------------+-----+\n",
      "only showing top 5 rows\n",
      "\n"
     ]
    }
   ],
   "source": [
    "print ('***** Aggregation: count and sort *****')\n",
    "\n",
    "df1 = df.groupBy(\"artist\").count().sort(col(\"count\").desc())\n",
    "print ('count: ', df1.count())\n",
    "df1.show(5)"
   ]
  },
  {
   "cell_type": "code",
   "execution_count": 30,
   "metadata": {},
   "outputs": [
    {
     "name": "stdout",
     "output_type": "stream",
     "text": [
      "***** Aggregation: average *****\n",
      "count:  1\n",
      "+------------------+\n",
      "| sum(acousticness)|\n",
      "+------------------+\n",
      "|378.36909943000103|\n",
      "+------------------+\n",
      "\n"
     ]
    }
   ],
   "source": [
    "print ('***** Aggregation: average *****')\n",
    "\n",
    "df1 = df.agg({\"acousticness\" : \"sum\"})\n",
    "print ('count: ', df1.count())\n",
    "df1.show()\n"
   ]
  },
  {
   "cell_type": "markdown",
   "metadata": {},
   "source": [
    "### Save files"
   ]
  },
  {
   "cell_type": "code",
   "execution_count": 31,
   "metadata": {},
   "outputs": [
    {
     "name": "stdout",
     "output_type": "stream",
     "text": [
      "**** DO NOT RUN THIS BLOCK *****\n"
     ]
    }
   ],
   "source": [
    "print ('**** DO NOT RUN THIS BLOCK *****')\n",
    "\n",
    "# # This saves output in part files\n",
    "# mydf.write.format('csv')\n",
    "#     .option('header',True)\n",
    "#     .mode('overwrite')\n",
    "#     .option('sep',',')\n",
    "#     .save('file://<file_path>')\n",
    "\n",
    "# ## If you want to save output as regular files\n",
    "# ##    convert dataframe to list and use regular python to write files\n",
    "\n",
    "# rdd = mydf.rdd.map(tuple)\n",
    "# list_to_write_to_file = list(rdd.collect())\n"
   ]
  },
  {
   "cell_type": "markdown",
   "metadata": {},
   "source": [
    "### Optional - Plots"
   ]
  },
  {
   "cell_type": "code",
   "execution_count": 32,
   "metadata": {},
   "outputs": [
    {
     "name": "stdout",
     "output_type": "stream",
     "text": [
      "***** An example using pandas and Matplotlib integration *****\n"
     ]
    },
    {
     "data": {
      "text/plain": [
       "<Figure size 432x288 with 0 Axes>"
      ]
     },
     "metadata": {},
     "output_type": "display_data"
    },
    {
     "data": {
      "image/png": "[encoded data removed]",
      "text/plain": [
       "<Figure size 432x288 with 1 Axes>"
      ]
     },
     "metadata": {
      "needs_background": "light"
     },
     "output_type": "display_data"
    }
   ],
   "source": [
    "print ('***** An example using pandas and Matplotlib integration *****')\n",
    "\n",
    "import pandas as pd\n",
    "import matplotlib.pyplot as plt\n",
    "\n",
    "plt.clf()\n",
    "pdDF = df.toPandas()\n",
    "pdDF.plot(x='acousticness', y='danceability', kind='scatter', rot=45)\n",
    "display()\n"
   ]
  },
  {
   "cell_type": "code",
   "execution_count": null,
   "metadata": {},
   "outputs": [],
   "source": []
  }
 ],
 "metadata": {
  "kernelspec": {
   "display_name": "Python 3",
   "language": "python",
   "name": "python3"
  },
  "language_info": {
   "codemirror_mode": {
    "name": "ipython",
    "version": 3
   },
   "file_extension": ".py",
   "mimetype": "text/x-python",
   "name": "python",
   "nbconvert_exporter": "python",
   "pygments_lexer": "ipython3",
   "version": "3.7.6"
  }
 },
 "nbformat": 4,
 "nbformat_minor": 4
}
