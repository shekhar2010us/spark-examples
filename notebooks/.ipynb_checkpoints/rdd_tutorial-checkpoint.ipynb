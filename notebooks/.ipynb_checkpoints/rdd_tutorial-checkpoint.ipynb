{
 "cells": [
  {
   "cell_type": "code",
   "execution_count": 1,
   "metadata": {},
   "outputs": [],
   "source": [
    "from common import Common\n",
    "from music import Music\n",
    "from pyspark import *\n",
    "from pyspark.streaming import *\n",
    "from pyspark import SparkContext, SparkConf"
   ]
  },
  {
   "cell_type": "code",
   "execution_count": 2,
   "metadata": {},
   "outputs": [
    {
     "name": "stdout",
     "output_type": "stream",
     "text": [
      "<SparkContext master=local appName=myapp>\n",
      "2.4.5\n"
     ]
    }
   ],
   "source": [
    "common = Common()\n",
    "sc = common.get_sc()"
   ]
  },
  {
   "cell_type": "markdown",
   "metadata": {},
   "source": [
    "### Read data from a file"
   ]
  },
  {
   "cell_type": "code",
   "execution_count": 3,
   "metadata": {},
   "outputs": [
    {
     "name": "stdout",
     "output_type": "stream",
     "text": [
      "A wonderful king is Hadoop.\n"
     ]
    },
    {
     "data": {
      "text/plain": [
       "['A wonderful king is Hadoop.', 'The elephant plays well with Sqoop.']"
      ]
     },
     "execution_count": 3,
     "metadata": {},
     "output_type": "execute_result"
    }
   ],
   "source": [
    "rdd = sc.textFile('/home/ec2-user/data/wordcount.file1')\n",
    "print(rdd.first())\n",
    "rdd.take(2)"
   ]
  },
  {
   "cell_type": "markdown",
   "metadata": {},
   "source": [
    "### Read data from a variable"
   ]
  },
  {
   "cell_type": "code",
   "execution_count": 4,
   "metadata": {},
   "outputs": [
    {
     "name": "stdout",
     "output_type": "stream",
     "text": [
      "1\n"
     ]
    },
    {
     "data": {
      "text/plain": [
       "[1, 2]"
      ]
     },
     "execution_count": 4,
     "metadata": {},
     "output_type": "execute_result"
    }
   ],
   "source": [
    "data = [1, 2, 3, 4, 5]\n",
    "rdd = sc.parallelize(data)\n",
    "print(rdd.first())\n",
    "rdd.take(2)"
   ]
  },
  {
   "cell_type": "markdown",
   "metadata": {},
   "source": [
    "### Map Transformation"
   ]
  },
  {
   "cell_type": "code",
   "execution_count": 5,
   "metadata": {},
   "outputs": [
    {
     "name": "stdout",
     "output_type": "stream",
     "text": [
      "Map\n",
      "input rdd:  [0, 1, 2, 3, 4]\n",
      "output rdd:  [0, 2, 4, 6, 8]\n"
     ]
    }
   ],
   "source": [
    "print ('Map')\n",
    "def multiply_by_two(x:int) -> int:\n",
    "    return x*2\n",
    "    \n",
    "data = range(0,100)\n",
    "rdd = sc.parallelize(data)\n",
    "print ('input rdd: ', rdd.take(5))\n",
    "\n",
    "rdd = rdd.map(multiply_by_two)\n",
    "print ('output rdd: ', rdd.take(5))"
   ]
  },
  {
   "cell_type": "markdown",
   "metadata": {},
   "source": [
    "### Filter Transformation"
   ]
  },
  {
   "cell_type": "code",
   "execution_count": 6,
   "metadata": {},
   "outputs": [
    {
     "name": "stdout",
     "output_type": "stream",
     "text": [
      "Filter\n",
      "input rdd:  [0, 1, 2, 3, 4, 5, 6, 7, 8, 9]\n",
      "output rdd:  [0, 2, 4, 6, 8, 10, 12, 14, 16, 18]\n"
     ]
    }
   ],
   "source": [
    "print ('Filter')\n",
    "def filter_by_even(x:int) -> int:\n",
    "    return x%2==0\n",
    "\n",
    "data = range(0,100)\n",
    "rdd = sc.parallelize(data)\n",
    "print ('input rdd: ', rdd.take(10))\n",
    "\n",
    "rdd = rdd.filter(filter_by_even)\n",
    "print ('output rdd: ', rdd.take(10))"
   ]
  },
  {
   "cell_type": "markdown",
   "metadata": {},
   "source": [
    "### FlatMap Transformation"
   ]
  },
  {
   "cell_type": "code",
   "execution_count": 7,
   "metadata": {},
   "outputs": [
    {
     "name": "stdout",
     "output_type": "stream",
     "text": [
      "FlatMap in function\n",
      "input rdd:  [('A', '1,2,3'), ('B', '5,6,7'), ('C', '8,9,10')]\n",
      "output rdd:  ['1', '2', '3', '5', '6', '7']\n"
     ]
    }
   ],
   "source": [
    "print ('FlatMap in function')\n",
    "def flatten(x):\n",
    "    return x[1].split(',')\n",
    "\n",
    "data = [('A', '1,2,3'), ('B', '5,6,7'), ('C', '8,9,10')]\n",
    "rdd = sc.parallelize(data)\n",
    "print ('input rdd: ', rdd.take(3))\n",
    "\n",
    "rdd = rdd.flatMap(flatten)\n",
    "print ('output rdd: ', rdd.take(6))"
   ]
  },
  {
   "cell_type": "code",
   "execution_count": 8,
   "metadata": {},
   "outputs": [
    {
     "name": "stdout",
     "output_type": "stream",
     "text": [
      "FlatMap in lambda\n",
      "input rdd:  [('A', '1,2,3'), ('B', '5,6,7'), ('C', '8,9,10')]\n",
      "output rdd:  ['1', '2', '3', '5', '6', '7']\n"
     ]
    }
   ],
   "source": [
    "print ('FlatMap in lambda')\n",
    "data = [('A', '1,2,3'), ('B', '5,6,7'), ('C', '8,9,10')]\n",
    "rdd = sc.parallelize(data)\n",
    "print ('input rdd: ', rdd.take(3))\n",
    "\n",
    "rdd = rdd.flatMap(lambda x: (x[1].split(',')))\n",
    "print ('output rdd: ', rdd.take(6))"
   ]
  },
  {
   "cell_type": "markdown",
   "metadata": {},
   "source": [
    "### FlatMapValues Transformation"
   ]
  },
  {
   "cell_type": "code",
   "execution_count": 9,
   "metadata": {},
   "outputs": [
    {
     "name": "stdout",
     "output_type": "stream",
     "text": [
      "FlatMapValues in function\n",
      "input rdd:  [('A', '1,2,3'), ('B', '5,6,7'), ('C', '8,9,10')]\n",
      "output rdd:  [('A', '1,2,3'), ('B', '5,6,7'), ('C', '8,9,10')]\n"
     ]
    }
   ],
   "source": [
    "print ('FlatMapValues in function')\n",
    "def flatten(x):\n",
    "    return x.split(' ')\n",
    "\n",
    "data = [('A', '1,2,3'), ('B', '5,6,7'), ('C', '8,9,10')]\n",
    "rdd = sc.parallelize(data)\n",
    "print ('input rdd: ', rdd.take(3))\n",
    "\n",
    "rdd = rdd.flatMapValues(flatten)\n",
    "print ('output rdd: ', rdd.take(6))"
   ]
  },
  {
   "cell_type": "code",
   "execution_count": 10,
   "metadata": {},
   "outputs": [
    {
     "name": "stdout",
     "output_type": "stream",
     "text": [
      "FlatMapValues in lambda\n",
      "input rdd:  [('A', '1,2,3'), ('B', '5,6,7'), ('C', '8,9,10')]\n",
      "output rdd:  [('A', '1'), ('A', '2'), ('A', '3'), ('B', '5'), ('B', '6'), ('B', '7')]\n"
     ]
    }
   ],
   "source": [
    "print ('FlatMapValues in lambda')\n",
    "data = [('A', '1,2,3'), ('B', '5,6,7'), ('C', '8,9,10')]\n",
    "rdd = sc.parallelize(data)\n",
    "print ('input rdd: ', rdd.take(3))\n",
    "\n",
    "rdd = rdd.flatMapValues(lambda x: x.split(','))\n",
    "print ('output rdd: ', rdd.take(6))"
   ]
  },
  {
   "cell_type": "markdown",
   "metadata": {},
   "source": [
    "### Working with files and classes"
   ]
  },
  {
   "cell_type": "code",
   "execution_count": 11,
   "metadata": {},
   "outputs": [
    {
     "name": "stdout",
     "output_type": "stream",
     "text": [
      "header:  acousticness,danceability,duration_ms,energy,song_title,artist\n",
      "first csv:  0.0102,0.833,204600,0.434,Mask Off,Future\n",
      "first class:  ('Future', <music.Music object at 0x7f8b58377190>)\n"
     ]
    }
   ],
   "source": [
    "file = '../data/spotify.csv'\n",
    "rdd = sc.textFile(file)\n",
    "\n",
    "header = rdd.first()\n",
    "print ('header: ', header)\n",
    "\n",
    "rdd = rdd.filter(lambda x: x != header)\n",
    "print ('first csv: ', rdd.first())\n",
    "\n",
    "rdd = rdd.map(lambda x: x.split(',')).map(lambda x: (x[5], Music(x[0], x[1], x[2], x[3], x[4], x[5])))\n",
    "print ('first class: ', rdd.first())\n"
   ]
  },
  {
   "cell_type": "code",
   "execution_count": 12,
   "metadata": {},
   "outputs": [
    {
     "data": {
      "text/plain": [
       "'[acoustic: 0.0102] [dance: 0.833] [duration: 204600] [energy: 0.434] [title: Mask Off] [artist: Future]'"
      ]
     },
     "execution_count": 12,
     "metadata": {},
     "output_type": "execute_result"
    }
   ],
   "source": [
    "def print_music(music:Music):\n",
    "        return ('[acoustic: ' + music.acoustic + '] ' +\n",
    "               '[dance: ' + music.dance + '] ' +\n",
    "               '[duration: ' + music.duration + '] ' +\n",
    "               '[energy: ' + music.energy + '] ' +\n",
    "               '[title: ' + music.title + '] ' +\n",
    "               '[artist: ' + music.artist+ ']')\n",
    "print_music(rdd.first()[1])"
   ]
  },
  {
   "cell_type": "markdown",
   "metadata": {},
   "source": [
    "### Partitions and re-partitions"
   ]
  },
  {
   "cell_type": "code",
   "execution_count": 13,
   "metadata": {},
   "outputs": [
    {
     "name": "stdout",
     "output_type": "stream",
     "text": [
      "Current partitions:  1\n",
      "Record count:  2017\n",
      "\n",
      "New partitions:  2\n",
      "Record count:  2017\n"
     ]
    }
   ],
   "source": [
    "print ('Current partitions: ', rdd.getNumPartitions())\n",
    "print ('Record count: ', rdd.count())\n",
    "\n",
    "rdd = rdd.repartition(2)\n",
    "print ('\\nNew partitions: ', rdd.getNumPartitions())\n",
    "print ('Record count: ', rdd.count())"
   ]
  },
  {
   "cell_type": "markdown",
   "metadata": {},
   "source": [
    "### MapPartition functions"
   ]
  },
  {
   "cell_type": "code",
   "execution_count": 14,
   "metadata": {},
   "outputs": [
    {
     "ename": "SyntaxError",
     "evalue": "invalid syntax (<ipython-input-14-980159759669>, line 1)",
     "output_type": "error",
     "traceback": [
      "\u001b[0;36m  File \u001b[0;32m\"<ipython-input-14-980159759669>\"\u001b[0;36m, line \u001b[0;32m1\u001b[0m\n\u001b[0;31m    rdd.mapPartitionsWithIndex{\u001b[0m\n\u001b[0m                              ^\u001b[0m\n\u001b[0;31mSyntaxError\u001b[0m\u001b[0;31m:\u001b[0m invalid syntax\n"
     ]
    }
   ],
   "source": [
    "rdd.mapPartitionsWithIndex{\n",
    "    lambda index, iterator: {\n",
    "        print(\"Called in Partition -> \" + index)\n",
    "        my_list = list(iterator)\n",
    "        my_list.map(lambda x: x + \" -> \" + index).iterator\n",
    "    }\n",
    "}"
   ]
  },
  {
   "cell_type": "code",
   "execution_count": null,
   "metadata": {},
   "outputs": [],
   "source": []
  },
  {
   "cell_type": "code",
   "execution_count": null,
   "metadata": {},
   "outputs": [],
   "source": []
  }
 ],
 "metadata": {
  "kernelspec": {
   "display_name": "Python 3",
   "language": "python",
   "name": "python3"
  },
  "language_info": {
   "codemirror_mode": {
    "name": "ipython",
    "version": 3
   },
   "file_extension": ".py",
   "mimetype": "text/x-python",
   "name": "python",
   "nbconvert_exporter": "python",
   "pygments_lexer": "ipython3",
   "version": "3.7.6"
  }
 },
 "nbformat": 4,
 "nbformat_minor": 4
}
