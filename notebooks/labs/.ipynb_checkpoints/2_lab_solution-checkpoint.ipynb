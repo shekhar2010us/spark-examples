{
 "cells": [
  {
   "cell_type": "markdown",
   "metadata": {},
   "source": [
    "## Lab 2 Solution"
   ]
  },
  {
   "cell_type": "code",
   "execution_count": 1,
   "metadata": {},
   "outputs": [],
   "source": [
    "from common import Common\n",
    "from pyspark.sql import functions as F\n",
    "from pyspark.sql.types import *\n",
    "from pyspark.sql.functions import udf, struct\n",
    "from pyspark.sql.types import Row\n",
    "from pyspark.sql.functions import explode\n",
    "from pyspark.sql.functions import col, asc\n",
    "from pyspark.sql.functions import col, count, isnan, lit, sum"
   ]
  },
  {
   "cell_type": "code",
   "execution_count": 2,
   "metadata": {},
   "outputs": [
    {
     "name": "stdout",
     "output_type": "stream",
     "text": [
      "<SparkContext master=local appName=myapp>\n",
      "2.4.5\n"
     ]
    }
   ],
   "source": [
    "## Do not run this multiple times\n",
    "common = Common()\n",
    "sc,spark = common.get_spark_sql()"
   ]
  },
  {
   "cell_type": "code",
   "execution_count": 3,
   "metadata": {},
   "outputs": [
    {
     "name": "stdout",
     "output_type": "stream",
     "text": [
      "+------------+\n",
      "|databaseName|\n",
      "+------------+\n",
      "|     default|\n",
      "+------------+\n",
      "\n",
      "+--------+---------+-----------+\n",
      "|database|tableName|isTemporary|\n",
      "+--------+---------+-----------+\n",
      "+--------+---------+-----------+\n",
      "\n"
     ]
    }
   ],
   "source": [
    "spark.sql(\"show databases\").show()\n",
    "spark.sql(\"show tables in default\").show()"
   ]
  },
  {
   "cell_type": "code",
   "execution_count": 4,
   "metadata": {},
   "outputs": [],
   "source": [
    "# file paths\n",
    "train_file = '/home/ec2-user/data/train.csv'\n",
    "test_file = '/home/ec2-user/data/test.csv'"
   ]
  },
  {
   "cell_type": "markdown",
   "metadata": {},
   "source": [
    "## Question 1"
   ]
  },
  {
   "cell_type": "code",
   "execution_count": 5,
   "metadata": {},
   "outputs": [],
   "source": [
    "train = spark.read.option(\"header\", \"true\").option(\"mode\", \"DROPMALFORMED\").csv(train_file)\n",
    "test = spark.read.option(\"header\", \"true\").option(\"mode\", \"DROPMALFORMED\").csv(test_file)"
   ]
  },
  {
   "cell_type": "code",
   "execution_count": 6,
   "metadata": {},
   "outputs": [
    {
     "name": "stdout",
     "output_type": "stream",
     "text": [
      "\n",
      "Train count:  99999\n",
      "Test count:  59999\n",
      "\n",
      "Train dtypes:  [('User_ID', 'string'), ('Product_ID', 'string'), ('Gender', 'string'), ('Age', 'string'), ('Occupation', 'string'), ('City_Category', 'string'), ('Stay_In_Current_City_Years', 'string'), ('Marital_Status', 'string'), ('Product_Category_1', 'string'), ('Product_Category_2', 'string'), ('Product_Category_3', 'string'), ('Purchase', 'string')]\n",
      "Test dtypes:  [('User_ID', 'string'), ('Product_ID', 'string'), ('Gender', 'string'), ('Age', 'string'), ('Occupation', 'string'), ('City_Category', 'string'), ('Stay_In_Current_City_Years', 'string'), ('Marital_Status', 'string'), ('Product_Category_1', 'string'), ('Product_Category_2', 'string'), ('Product_Category_3', 'string')]\n",
      "\n",
      "\n",
      "+-------+----------+------+----+----------+-------------+--------------------------+--------------+------------------+------------------+------------------+--------+\n",
      "|User_ID|Product_ID|Gender| Age|Occupation|City_Category|Stay_In_Current_City_Years|Marital_Status|Product_Category_1|Product_Category_2|Product_Category_3|Purchase|\n",
      "+-------+----------+------+----+----------+-------------+--------------------------+--------------+------------------+------------------+------------------+--------+\n",
      "|1000001| P00069042|     F|0-17|        10|            A|                         2|             0|                 3|              null|              null|    8370|\n",
      "|1000001| P00248942|     F|0-17|        10|            A|                         2|             0|                 1|                 6|                14|   15200|\n",
      "|1000001| P00087842|     F|0-17|        10|            A|                         2|             0|                12|              null|              null|    1422|\n",
      "|1000001| P00085442|     F|0-17|        10|            A|                         2|             0|                12|                14|              null|    1057|\n",
      "|1000002| P00285442|     M| 55+|        16|            C|                        4+|             0|                 8|              null|              null|    7969|\n",
      "+-------+----------+------+----+----------+-------------+--------------------------+--------------+------------------+------------------+------------------+--------+\n",
      "only showing top 5 rows\n",
      "\n",
      "+-------+----------+------+-----+----------+-------------+--------------------------+--------------+------------------+------------------+------------------+\n",
      "|User_ID|Product_ID|Gender|  Age|Occupation|City_Category|Stay_In_Current_City_Years|Marital_Status|Product_Category_1|Product_Category_2|Product_Category_3|\n",
      "+-------+----------+------+-----+----------+-------------+--------------------------+--------------+------------------+------------------+------------------+\n",
      "|1000004| P00128942|     M|46-50|         7|            B|                         2|             1|                 1|                11|              null|\n",
      "|1000009| P00113442|     M|26-35|        17|            C|                         0|             0|                 3|                 5|              null|\n",
      "|1000010| P00288442|     F|36-45|         1|            B|                        4+|             1|                 5|                14|              null|\n",
      "|1000010| P00145342|     F|36-45|         1|            B|                        4+|             1|                 4|                 9|              null|\n",
      "|1000011| P00053842|     F|26-35|         1|            C|                         1|             0|                 4|                 5|                12|\n",
      "+-------+----------+------+-----+----------+-------------+--------------------------+--------------+------------------+------------------+------------------+\n",
      "only showing top 5 rows\n",
      "\n"
     ]
    }
   ],
   "source": [
    "print ('\\nTrain count: ', train.count())\n",
    "print ('Test count: ', test.count())\n",
    "\n",
    "print ('\\nTrain dtypes: ', train.dtypes)\n",
    "print ('Test dtypes: ', test.dtypes)\n",
    "\n",
    "print ('\\n')\n",
    "train.show(5)\n",
    "test.show(5)\n"
   ]
  },
  {
   "cell_type": "markdown",
   "metadata": {},
   "source": [
    "## Question 2"
   ]
  },
  {
   "cell_type": "code",
   "execution_count": 7,
   "metadata": {},
   "outputs": [
    {
     "name": "stdout",
     "output_type": "stream",
     "text": [
      "Train columns:  ['User_ID', 'Product_ID', 'Gender', 'Age', 'Occupation', 'City_Category', 'Stay_In_Current_City_Years', 'Marital_Status', 'Product_Category_1', 'Product_Category_2', 'Product_Category_3', 'Purchase']\n",
      "\n",
      "Test columns:  ['User_ID', 'Product_ID', 'Gender', 'Age', 'Occupation', 'City_Category', 'Stay_In_Current_City_Years', 'Marital_Status', 'Product_Category_1', 'Product_Category_2', 'Product_Category_3']\n",
      "\n",
      "Extra col in train df:  ['Purchase']\n",
      "\n",
      "Extra col in train df:  []\n"
     ]
    }
   ],
   "source": [
    "train_cols = train.columns\n",
    "print ('Train columns: ', train_cols)\n",
    "\n",
    "test_cols = test.columns\n",
    "print ('\\nTest columns: ', test_cols)\n",
    "\n",
    "extra_in_train = [i for i in train_cols if i not in test_cols]\n",
    "print ('\\nExtra col in train df: ', extra_in_train)\n",
    "\n",
    "extra_in_test = [i for i in test_cols if i not in train_cols]\n",
    "print ('\\nExtra col in train df: ', extra_in_test)"
   ]
  },
  {
   "cell_type": "markdown",
   "metadata": {},
   "source": [
    "## Question 3"
   ]
  },
  {
   "cell_type": "code",
   "execution_count": 8,
   "metadata": {},
   "outputs": [
    {
     "name": "stdout",
     "output_type": "stream",
     "text": [
      "+-------+------------------+----------+------+-----+-----------------+-------------+--------------------------+------------------+------------------+------------------+------------------+-----------------+\n",
      "|summary|           User_ID|Product_ID|Gender|  Age|       Occupation|City_Category|Stay_In_Current_City_Years|    Marital_Status|Product_Category_1|Product_Category_2|Product_Category_3|         Purchase|\n",
      "+-------+------------------+----------+------+-----+-----------------+-------------+--------------------------+------------------+------------------+------------------+------------------+-----------------+\n",
      "|  count|             99999|     99999| 99999|99999|            99999|        99999|                     99999|             99999|             99999|             68817|             30498|            99999|\n",
      "|   mean|1002739.6807668076|      null|  null| null| 8.09130091300913|         null|         1.473904807009235|0.4088140881408814| 5.301783017830179| 9.857113794556577|12.658403829759328|9298.262472624727|\n",
      "| stddev|1684.2043853258833|      null|  null| null|6.529135993297914|         null|        0.9917876726202015|0.4916172763217875| 3.734665564065499| 5.083852788136267| 4.123400865999158|4966.842464095267|\n",
      "|    min|           1000001| P00000142|     F| 0-17|                0|            A|                         0|                 0|                 1|                10|                10|            10000|\n",
      "|    max|           1006040|  P0099942|     M|  55+|                9|            C|                        4+|                 1|                 9|                 9|                 9|             9999|\n",
      "+-------+------------------+----------+------+-----+-----------------+-------------+--------------------------+------------------+------------------+------------------+------------------+-----------------+\n",
      "\n"
     ]
    }
   ],
   "source": [
    "train.describe().show()"
   ]
  },
  {
   "cell_type": "code",
   "execution_count": 9,
   "metadata": {},
   "outputs": [
    {
     "name": "stdout",
     "output_type": "stream",
     "text": [
      "+-------+------------------+----------+------+-----+-----------------+-------------+--------------------------+------------------+------------------+------------------+------------------+\n",
      "|summary|           User_ID|Product_ID|Gender|  Age|       Occupation|City_Category|Stay_In_Current_City_Years|    Marital_Status|Product_Category_1|Product_Category_2|Product_Category_3|\n",
      "+-------+------------------+----------+------+-----+-----------------+-------------+--------------------------+------------------+------------------+------------------+------------------+\n",
      "|  count|             59999|     59999| 59999|59999|            59999|        59999|                     59999|             59999|             59999|             41512|             18285|\n",
      "|   mean|1002976.0793679894|      null|  null| null|8.109318488641478|         null|        1.4688091482649843| 0.411323522058701|  5.27722128702145| 9.847803044902678|12.665682253213015|\n",
      "| stddev| 1726.537462009252|      null|  null| null|6.512547896936129|         null|        0.9878563919118692|0.4920777560533409| 3.739010427753423| 5.099974751816884| 4.116689141898426|\n",
      "|    min|           1000001| P00000142|     F| 0-17|                0|            A|                         0|                 0|                 1|                10|                10|\n",
      "|    max|           1006040|  P0099842|     M|  55+|                9|            C|                        4+|                 1|                 9|                 9|                 9|\n",
      "+-------+------------------+----------+------+-----+-----------------+-------------+--------------------------+------------------+------------------+------------------+------------------+\n",
      "\n"
     ]
    }
   ],
   "source": [
    "test.describe().show()"
   ]
  },
  {
   "cell_type": "code",
   "execution_count": 10,
   "metadata": {},
   "outputs": [
    {
     "name": "stdout",
     "output_type": "stream",
     "text": [
      "Describing the extra column \"purchase\" in train df\n",
      "+-------+-----------------+\n",
      "|summary|         Purchase|\n",
      "+-------+-----------------+\n",
      "|  count|            99999|\n",
      "|   mean|9298.262472624727|\n",
      "| stddev|4966.842464095267|\n",
      "|    min|            10000|\n",
      "|    max|             9999|\n",
      "+-------+-----------------+\n",
      "\n",
      "Checking how many record has NULL Purchase\n",
      "Purchase column in not in null in:  99999\n"
     ]
    }
   ],
   "source": [
    "print ('Describing the extra column \"purchase\" in train df')\n",
    "train.describe(extra_in_train).show()\n",
    "\n",
    "print ('Checking how many record has NULL Purchase')\n",
    "not_null_purchase = train.where(train['Purchase'].isNotNull())\n",
    "purchase_count = not_null_purchase.count()\n",
    "print ('Purchase column in not in null in: ', purchase_count)"
   ]
  },
  {
   "cell_type": "markdown",
   "metadata": {},
   "source": [
    "## Question 4"
   ]
  },
  {
   "cell_type": "code",
   "execution_count": 11,
   "metadata": {},
   "outputs": [],
   "source": [
    "def count_not_null(c, nan_as_null=False):\n",
    "    \"\"\"Use conversion between boolean and integer\n",
    "    - False -> 0\n",
    "    - True ->  1\n",
    "    \"\"\"\n",
    "    pred = col(c).isNotNull() & (~isnan(c) if nan_as_null else lit(True))\n",
    "    return sum(pred.cast(\"integer\")).alias(c)"
   ]
  },
  {
   "cell_type": "code",
   "execution_count": 12,
   "metadata": {},
   "outputs": [
    {
     "name": "stdout",
     "output_type": "stream",
     "text": [
      "Train count:  99999\n"
     ]
    },
    {
     "data": {
      "text/html": [
       "<div>\n",
       "<style scoped>\n",
       "    .dataframe tbody tr th:only-of-type {\n",
       "        vertical-align: middle;\n",
       "    }\n",
       "\n",
       "    .dataframe tbody tr th {\n",
       "        vertical-align: top;\n",
       "    }\n",
       "\n",
       "    .dataframe thead th {\n",
       "        text-align: right;\n",
       "    }\n",
       "</style>\n",
       "<table border=\"1\" class=\"dataframe\">\n",
       "  <thead>\n",
       "    <tr style=\"text-align: right;\">\n",
       "      <th></th>\n",
       "      <th>0</th>\n",
       "    </tr>\n",
       "  </thead>\n",
       "  <tbody>\n",
       "    <tr>\n",
       "      <th>User_ID</th>\n",
       "      <td>99999</td>\n",
       "    </tr>\n",
       "    <tr>\n",
       "      <th>Product_ID</th>\n",
       "      <td>99999</td>\n",
       "    </tr>\n",
       "    <tr>\n",
       "      <th>Gender</th>\n",
       "      <td>99999</td>\n",
       "    </tr>\n",
       "    <tr>\n",
       "      <th>Age</th>\n",
       "      <td>99999</td>\n",
       "    </tr>\n",
       "    <tr>\n",
       "      <th>Occupation</th>\n",
       "      <td>99999</td>\n",
       "    </tr>\n",
       "    <tr>\n",
       "      <th>City_Category</th>\n",
       "      <td>99999</td>\n",
       "    </tr>\n",
       "    <tr>\n",
       "      <th>Stay_In_Current_City_Years</th>\n",
       "      <td>99999</td>\n",
       "    </tr>\n",
       "    <tr>\n",
       "      <th>Marital_Status</th>\n",
       "      <td>99999</td>\n",
       "    </tr>\n",
       "    <tr>\n",
       "      <th>Product_Category_1</th>\n",
       "      <td>99999</td>\n",
       "    </tr>\n",
       "    <tr>\n",
       "      <th>Product_Category_2</th>\n",
       "      <td>68817</td>\n",
       "    </tr>\n",
       "    <tr>\n",
       "      <th>Product_Category_3</th>\n",
       "      <td>30498</td>\n",
       "    </tr>\n",
       "    <tr>\n",
       "      <th>Purchase</th>\n",
       "      <td>99999</td>\n",
       "    </tr>\n",
       "  </tbody>\n",
       "</table>\n",
       "</div>"
      ],
      "text/plain": [
       "                                0\n",
       "User_ID                     99999\n",
       "Product_ID                  99999\n",
       "Gender                      99999\n",
       "Age                         99999\n",
       "Occupation                  99999\n",
       "City_Category               99999\n",
       "Stay_In_Current_City_Years  99999\n",
       "Marital_Status              99999\n",
       "Product_Category_1          99999\n",
       "Product_Category_2          68817\n",
       "Product_Category_3          30498\n",
       "Purchase                    99999"
      ]
     },
     "execution_count": 12,
     "metadata": {},
     "output_type": "execute_result"
    }
   ],
   "source": [
    "print ('Train count: ', train.count())\n",
    "null_in_train = train.agg(*[count_not_null(c) for c in train.columns])\n",
    "null_in_train.toPandas().transpose()"
   ]
  },
  {
   "cell_type": "code",
   "execution_count": 13,
   "metadata": {},
   "outputs": [
    {
     "name": "stdout",
     "output_type": "stream",
     "text": [
      "Test count:  59999\n"
     ]
    },
    {
     "data": {
      "text/html": [
       "<div>\n",
       "<style scoped>\n",
       "    .dataframe tbody tr th:only-of-type {\n",
       "        vertical-align: middle;\n",
       "    }\n",
       "\n",
       "    .dataframe tbody tr th {\n",
       "        vertical-align: top;\n",
       "    }\n",
       "\n",
       "    .dataframe thead th {\n",
       "        text-align: right;\n",
       "    }\n",
       "</style>\n",
       "<table border=\"1\" class=\"dataframe\">\n",
       "  <thead>\n",
       "    <tr style=\"text-align: right;\">\n",
       "      <th></th>\n",
       "      <th>0</th>\n",
       "    </tr>\n",
       "  </thead>\n",
       "  <tbody>\n",
       "    <tr>\n",
       "      <th>User_ID</th>\n",
       "      <td>59999</td>\n",
       "    </tr>\n",
       "    <tr>\n",
       "      <th>Product_ID</th>\n",
       "      <td>59999</td>\n",
       "    </tr>\n",
       "    <tr>\n",
       "      <th>Gender</th>\n",
       "      <td>59999</td>\n",
       "    </tr>\n",
       "    <tr>\n",
       "      <th>Age</th>\n",
       "      <td>59999</td>\n",
       "    </tr>\n",
       "    <tr>\n",
       "      <th>Occupation</th>\n",
       "      <td>59999</td>\n",
       "    </tr>\n",
       "    <tr>\n",
       "      <th>City_Category</th>\n",
       "      <td>59999</td>\n",
       "    </tr>\n",
       "    <tr>\n",
       "      <th>Stay_In_Current_City_Years</th>\n",
       "      <td>59999</td>\n",
       "    </tr>\n",
       "    <tr>\n",
       "      <th>Marital_Status</th>\n",
       "      <td>59999</td>\n",
       "    </tr>\n",
       "    <tr>\n",
       "      <th>Product_Category_1</th>\n",
       "      <td>59999</td>\n",
       "    </tr>\n",
       "    <tr>\n",
       "      <th>Product_Category_2</th>\n",
       "      <td>41512</td>\n",
       "    </tr>\n",
       "    <tr>\n",
       "      <th>Product_Category_3</th>\n",
       "      <td>18285</td>\n",
       "    </tr>\n",
       "  </tbody>\n",
       "</table>\n",
       "</div>"
      ],
      "text/plain": [
       "                                0\n",
       "User_ID                     59999\n",
       "Product_ID                  59999\n",
       "Gender                      59999\n",
       "Age                         59999\n",
       "Occupation                  59999\n",
       "City_Category               59999\n",
       "Stay_In_Current_City_Years  59999\n",
       "Marital_Status              59999\n",
       "Product_Category_1          59999\n",
       "Product_Category_2          41512\n",
       "Product_Category_3          18285"
      ]
     },
     "execution_count": 13,
     "metadata": {},
     "output_type": "execute_result"
    }
   ],
   "source": [
    "print ('Test count: ', test.count())\n",
    "null_in_test = test.agg(*[count_not_null(c) for c in test.columns])\n",
    "null_in_test.toPandas().transpose()\n"
   ]
  },
  {
   "cell_type": "markdown",
   "metadata": {},
   "source": [
    "## Question 5"
   ]
  },
  {
   "cell_type": "code",
   "execution_count": 14,
   "metadata": {},
   "outputs": [
    {
     "name": "stdout",
     "output_type": "stream",
     "text": [
      "+-------+----+\n",
      "|User_ID| Age|\n",
      "+-------+----+\n",
      "|1000001|0-17|\n",
      "|1000001|0-17|\n",
      "|1000001|0-17|\n",
      "|1000001|0-17|\n",
      "|1000002| 55+|\n",
      "+-------+----+\n",
      "only showing top 5 rows\n",
      "\n"
     ]
    }
   ],
   "source": [
    "tmp_df = train.select(['User_ID','Age'])\n",
    "tmp_df.show(5)"
   ]
  },
  {
   "cell_type": "code",
   "execution_count": 15,
   "metadata": {},
   "outputs": [
    {
     "name": "stdout",
     "output_type": "stream",
     "text": [
      "Distinct ages in train:  7\n",
      "Distinct ages in test:  7\n",
      "+-----+\n",
      "|  Age|\n",
      "+-----+\n",
      "|18-25|\n",
      "|26-35|\n",
      "| 0-17|\n",
      "|46-50|\n",
      "|51-55|\n",
      "|36-45|\n",
      "|  55+|\n",
      "+-----+\n",
      "\n"
     ]
    }
   ],
   "source": [
    "distinct_age_train = train.select('Age').distinct()\n",
    "print ('Distinct ages in train: ', distinct_age_train.count())\n",
    "\n",
    "distinct_age_test = test.select('Age').distinct()\n",
    "print ('Distinct ages in test: ', distinct_age_test.count())\n",
    "\n",
    "distinct_age_train.show()"
   ]
  },
  {
   "cell_type": "code",
   "execution_count": 16,
   "metadata": {},
   "outputs": [
    {
     "name": "stdout",
     "output_type": "stream",
     "text": [
      "['0-17', '18-25', '26-35', '36-45', '46-50', '51-55', '55+']\n",
      "mapped_ages:  {'0-17': 0, '18-25': 1, '26-35': 2, '36-45': 3, '46-50': 4, '51-55': 5, '55+': 6}\n"
     ]
    }
   ],
   "source": [
    "## collect all ages in a list and sort the list\n",
    "_tmp = distinct_age_train.rdd.map(tuple).collect()\n",
    "ages = [i[0] for i in _tmp]\n",
    "ages = sorted(ages)\n",
    "print (ages)\n",
    "\n",
    "mapped_ages = {x:index for index, x in enumerate(ages)}\n",
    "print ('mapped_ages: ', mapped_ages)"
   ]
  },
  {
   "cell_type": "code",
   "execution_count": 17,
   "metadata": {},
   "outputs": [
    {
     "name": "stdout",
     "output_type": "stream",
     "text": [
      "Add a new column - with age category\n"
     ]
    }
   ],
   "source": [
    "print ('Add a new column - with age category')\n",
    "\n",
    "def age_category(value):\n",
    "    return mapped_ages[value]\n",
    "\n",
    "udf_age_category = udf(age_category, IntegerType())"
   ]
  },
  {
   "cell_type": "code",
   "execution_count": 18,
   "metadata": {},
   "outputs": [
    {
     "name": "stdout",
     "output_type": "stream",
     "text": [
      "new column in train\n",
      "count:  99999\n",
      "+----+------------+\n",
      "| Age|age_category|\n",
      "+----+------------+\n",
      "|0-17|           0|\n",
      "|0-17|           0|\n",
      "|0-17|           0|\n",
      "|0-17|           0|\n",
      "| 55+|           6|\n",
      "+----+------------+\n",
      "only showing top 5 rows\n",
      "\n",
      "new column in test\n",
      "count:  59999\n",
      "+-----+------------+\n",
      "|  Age|age_category|\n",
      "+-----+------------+\n",
      "|46-50|           4|\n",
      "|26-35|           2|\n",
      "|36-45|           3|\n",
      "|36-45|           3|\n",
      "|26-35|           2|\n",
      "+-----+------------+\n",
      "only showing top 5 rows\n",
      "\n"
     ]
    }
   ],
   "source": [
    "print ('new column in train')\n",
    "train_age = train.withColumn(\"age_category\", udf_age_category(\"Age\"))\n",
    "print ('count: ', train_age.count())\n",
    "train_age.select('Age','age_category').show(5)\n",
    "\n",
    "print ('new column in test')\n",
    "test_age = test.withColumn(\"age_category\", udf_age_category(\"Age\"))\n",
    "print ('count: ', test_age.count())\n",
    "test_age.select('Age','age_category').show(5)\n"
   ]
  },
  {
   "cell_type": "markdown",
   "metadata": {},
   "source": [
    "## Question 6"
   ]
  },
  {
   "cell_type": "code",
   "execution_count": 19,
   "metadata": {},
   "outputs": [
    {
     "name": "stdout",
     "output_type": "stream",
     "text": [
      "count in train after removing null 30498\n",
      "count in test after removing null 18285\n"
     ]
    }
   ],
   "source": [
    "clean_train = train.dropna(how='any')\n",
    "print ('count in train after removing null', clean_train.count())\n",
    "\n",
    "clean_test = test.dropna(how='any')\n",
    "print ('count in test after removing null', clean_test.count())"
   ]
  },
  {
   "cell_type": "code",
   "execution_count": 20,
   "metadata": {},
   "outputs": [
    {
     "name": "stdout",
     "output_type": "stream",
     "text": [
      "count of subset_train 99999\n",
      "\n",
      "count of subset_train_unique 401\n",
      "\n",
      "filled -1 to na\n",
      "+-----+------+--------------+------------------+\n",
      "|  Age|Gender|Marital_Status|Product_Category_3|\n",
      "+-----+------+--------------+------------------+\n",
      "|26-35|     F|             1|                14|\n",
      "|  55+|     M|             0|                16|\n",
      "|18-25|     F|             1|                 8|\n",
      "|51-55|     F|             0|                15|\n",
      "|51-55|     M|             0|                 6|\n",
      "+-----+------+--------------+------------------+\n",
      "only showing top 5 rows\n",
      "\n",
      "\n",
      "count of clean_subset_train_unique 375\n",
      "+-----+------+--------------+------------------+\n",
      "|  Age|Gender|Marital_Status|Product_Category_3|\n",
      "+-----+------+--------------+------------------+\n",
      "|26-35|     F|             1|                14|\n",
      "|  55+|     M|             0|                16|\n",
      "|18-25|     F|             1|                 8|\n",
      "|51-55|     F|             0|                15|\n",
      "|51-55|     M|             0|                 6|\n",
      "+-----+------+--------------+------------------+\n",
      "only showing top 5 rows\n",
      "\n"
     ]
    }
   ],
   "source": [
    "subset_train = train.select('Age','Gender', 'Marital_Status', 'Product_Category_3')\n",
    "print('count of subset_train', subset_train.count())\n",
    "\n",
    "subset_train_unique = subset_train.dropDuplicates()\n",
    "print('\\ncount of subset_train_unique', subset_train_unique.count() )\n",
    "\n",
    "## fill \"-1\" to all null values in \"subset_train_unique\"\n",
    "print('\\nfilled -1 to na')\n",
    "subset_train_unique_filled = subset_train_unique.fillna(-1)\n",
    "subset_train_unique_filled.show(5)\n",
    "\n",
    "clean_subset_train_unique = subset_train_unique.dropna(how='any')\n",
    "print('\\ncount of clean_subset_train_unique', clean_subset_train_unique.count() )\n",
    "clean_subset_train_unique.show(5)"
   ]
  },
  {
   "cell_type": "markdown",
   "metadata": {},
   "source": [
    "## Question 7"
   ]
  },
  {
   "cell_type": "code",
   "execution_count": 21,
   "metadata": {},
   "outputs": [
    {
     "name": "stdout",
     "output_type": "stream",
     "text": [
      "20030\n",
      "+-------+----------+------+-----+----------+-------------+--------------------------+--------------+------------------+------------------+------------------+--------+\n",
      "|User_ID|Product_ID|Gender|  Age|Occupation|City_Category|Stay_In_Current_City_Years|Marital_Status|Product_Category_1|Product_Category_2|Product_Category_3|Purchase|\n",
      "+-------+----------+------+-----+----------+-------------+--------------------------+--------------+------------------+------------------+------------------+--------+\n",
      "|1000001| P00248942|     F| 0-17|        10|            A|                         2|             0|                 1|                 6|                14|   15200|\n",
      "|1000003| P00193542|     M|26-35|        15|            A|                         3|             0|                 1|                 2|              null|   15227|\n",
      "|1000004| P00184942|     M|46-50|         7|            B|                         2|             1|                 1|                 8|                17|   19215|\n",
      "+-------+----------+------+-----+----------+-------------+--------------------------+--------------+------------------+------------------+------------------+--------+\n",
      "only showing top 3 rows\n",
      "\n"
     ]
    }
   ],
   "source": [
    "filter_purchase_train = train.filter(train.Purchase > 15000)\n",
    "print (filter_purchase_train.count())\n",
    "filter_purchase_train.show(3)"
   ]
  },
  {
   "cell_type": "code",
   "execution_count": 22,
   "metadata": {},
   "outputs": [
    {
     "name": "stdout",
     "output_type": "stream",
     "text": [
      "7\n",
      "+-----+-----------------+\n",
      "|  Age|    avg(Purchase)|\n",
      "+-----+-----------------+\n",
      "|18-25|9194.098236641628|\n",
      "|26-35|9288.115425478094|\n",
      "| 0-17|9135.605563480742|\n",
      "|46-50| 9248.43816698054|\n",
      "|51-55|9573.530554374025|\n",
      "|36-45| 9342.46367146367|\n",
      "|  55+|9396.550496056983|\n",
      "+-----+-----------------+\n",
      "\n"
     ]
    }
   ],
   "source": [
    "age_gr_purchase_mean_train = train.groupby('Age').agg({'Purchase': 'mean'})\n",
    "print (age_gr_purchase_mean_train.count())\n",
    "age_gr_purchase_mean_train.show()\n"
   ]
  },
  {
   "cell_type": "code",
   "execution_count": 23,
   "metadata": {},
   "outputs": [
    {
     "name": "stdout",
     "output_type": "stream",
     "text": [
      "+-----+-----+\n",
      "|  Age|count|\n",
      "+-----+-----+\n",
      "|18-25|18771|\n",
      "|26-35|39532|\n",
      "| 0-17| 2804|\n",
      "|46-50| 7965|\n",
      "|51-55| 7053|\n",
      "|36-45|19943|\n",
      "|  55+| 3931|\n",
      "+-----+-----+\n",
      "\n"
     ]
    }
   ],
   "source": [
    "age_count_train = train.groupby('Age').count()\n",
    "age_count_train.show()\n"
   ]
  },
  {
   "cell_type": "markdown",
   "metadata": {},
   "source": [
    "## Question 8"
   ]
  },
  {
   "cell_type": "code",
   "execution_count": 24,
   "metadata": {},
   "outputs": [
    {
     "name": "stdout",
     "output_type": "stream",
     "text": [
      "40214\n",
      "59948\n"
     ]
    }
   ],
   "source": [
    "t1 = train.sample(withReplacement=False, fraction=0.4, seed=42)\n",
    "t2 = train.sample(withReplacement=False, fraction=0.6, seed=43)\n",
    "print (t1.count())\n",
    "print (t2.count())"
   ]
  },
  {
   "cell_type": "code",
   "execution_count": 25,
   "metadata": {},
   "outputs": [
    {
     "name": "stdout",
     "output_type": "stream",
     "text": [
      "100162\n"
     ]
    }
   ],
   "source": [
    "uni = t1.union(t2)\n",
    "print (uni.count())"
   ]
  },
  {
   "cell_type": "markdown",
   "metadata": {},
   "source": [
    "## Question 9"
   ]
  },
  {
   "cell_type": "code",
   "execution_count": 26,
   "metadata": {},
   "outputs": [
    {
     "name": "stdout",
     "output_type": "stream",
     "text": [
      "cols:  ['User_ID', 'Product_ID', 'Gender', 'Age', 'Occupation', 'City_Category', 'Stay_In_Current_City_Years', 'Marital_Status', 'Product_Category_1', 'Product_Category_2', 'Product_Category_3', 'Purchase', 'Purchase_new']\n",
      "+--------+------------+\n",
      "|Purchase|Purchase_new|\n",
      "+--------+------------+\n",
      "|    8370|      4185.0|\n",
      "|   15200|      7600.0|\n",
      "|    1422|       711.0|\n",
      "|    1057|       528.5|\n",
      "|    7969|      3984.5|\n",
      "+--------+------------+\n",
      "only showing top 5 rows\n",
      "\n"
     ]
    }
   ],
   "source": [
    "train_new_purchase = train.withColumn('Purchase_new', train.Purchase /2.0)\n",
    "print ('cols: ', train_new_purchase.columns)\n",
    "train_new_purchase.select('Purchase','Purchase_new').show(5)"
   ]
  },
  {
   "cell_type": "code",
   "execution_count": 27,
   "metadata": {},
   "outputs": [
    {
     "name": "stdout",
     "output_type": "stream",
     "text": [
      "cols:  ['User_ID', 'Product_ID', 'Gender', 'Age', 'Occupation', 'City_Category', 'Stay_In_Current_City_Years', 'Marital_Status', 'Product_Category_1', 'Product_Category_2', 'Product_Category_3', 'Purchase_new']\n"
     ]
    }
   ],
   "source": [
    "train_new_purchase = train_new_purchase.drop('Purchase')\n",
    "print ('cols: ', train_new_purchase.columns)"
   ]
  },
  {
   "cell_type": "markdown",
   "metadata": {},
   "source": [
    "## Question 10"
   ]
  },
  {
   "cell_type": "code",
   "execution_count": 28,
   "metadata": {},
   "outputs": [
    {
     "name": "stdout",
     "output_type": "stream",
     "text": [
      "+--------+-----------+-----------+\n",
      "|database|  tableName|isTemporary|\n",
      "+--------+-----------+-----------+\n",
      "|        |train_table|       true|\n",
      "+--------+-----------+-----------+\n",
      "\n"
     ]
    }
   ],
   "source": [
    "train.createOrReplaceTempView(\"train_table\")\n",
    "spark.sql(\"show tables in default\").show()"
   ]
  },
  {
   "cell_type": "code",
   "execution_count": 29,
   "metadata": {},
   "outputs": [
    {
     "name": "stdout",
     "output_type": "stream",
     "text": [
      "+----------+\n",
      "|Product_ID|\n",
      "+----------+\n",
      "| P00069042|\n",
      "| P00248942|\n",
      "| P00087842|\n",
      "| P00085442|\n",
      "| P00285442|\n",
      "+----------+\n",
      "only showing top 5 rows\n",
      "\n"
     ]
    }
   ],
   "source": [
    "spark.sql('select Product_ID from train_table').show(5)"
   ]
  },
  {
   "cell_type": "code",
   "execution_count": 30,
   "metadata": {},
   "outputs": [
    {
     "name": "stdout",
     "output_type": "stream",
     "text": [
      "+-----+-------------+\n",
      "|  Age|max(Purchase)|\n",
      "+-----+-------------+\n",
      "|18-25|         9999|\n",
      "|26-35|         9999|\n",
      "| 0-17|         9998|\n",
      "|46-50|         9998|\n",
      "|51-55|         9999|\n",
      "+-----+-------------+\n",
      "only showing top 5 rows\n",
      "\n"
     ]
    }
   ],
   "source": [
    "spark.sql('select Age, max(Purchase) from train_table group by Age').show(5)"
   ]
  },
  {
   "cell_type": "code",
   "execution_count": 31,
   "metadata": {},
   "outputs": [
    {
     "name": "stdout",
     "output_type": "stream",
     "text": [
      "+--------+---------+-----------+\n",
      "|database|tableName|isTemporary|\n",
      "+--------+---------+-----------+\n",
      "+--------+---------+-----------+\n",
      "\n"
     ]
    }
   ],
   "source": [
    "spark.sql(\"DROP TABLE train_table\")\n",
    "spark.sql(\"show tables in default\").show()"
   ]
  },
  {
   "cell_type": "code",
   "execution_count": null,
   "metadata": {},
   "outputs": [],
   "source": []
  }
 ],
 "metadata": {
  "kernelspec": {
   "display_name": "Python 3",
   "language": "python",
   "name": "python3"
  },
  "language_info": {
   "codemirror_mode": {
    "name": "ipython",
    "version": 3
   },
   "file_extension": ".py",
   "mimetype": "text/x-python",
   "name": "python",
   "nbconvert_exporter": "python",
   "pygments_lexer": "ipython3",
   "version": "3.7.6"
  }
 },
 "nbformat": 4,
 "nbformat_minor": 4
}
